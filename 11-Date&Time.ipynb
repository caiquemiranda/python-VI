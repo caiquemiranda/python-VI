{
 "cells": [
  {
   "cell_type": "code",
   "execution_count": null,
   "metadata": {},
   "outputs": [],
   "source": [
    "# Versão da Linguagem Python\n",
    "from platform import python_version\n",
    "print('Versão de Python Neste Jupyter Notebook:', python_version())\n",
    "\n",
    "# usaremos o filtro 'warning' para deixar mais limpo.\n",
    "import warnings\n",
    "warnings.filterwarnings('ignore')"
   ]
  },
  {
   "cell_type": "code",
   "execution_count": 1,
   "metadata": {},
   "outputs": [
    {
     "name": "stdout",
     "output_type": "stream",
     "text": [
      "Number of ticks since 12:00am, January 1, 1970: 1681687760.882675\n"
     ]
    }
   ],
   "source": [
    "#!/usr/bin/python3\n",
    "\n",
    "import time; # This is required to include time module.\n",
    "\n",
    "ticks = time.time()\n",
    "\n",
    "print (\"Number of ticks since 12:00am, January 1, 1970:\", ticks)"
   ]
  },
  {
   "attachments": {},
   "cell_type": "markdown",
   "metadata": {},
   "source": [
    "### What is TimeTuple?"
   ]
  },
  {
   "attachments": {},
   "cell_type": "markdown",
   "metadata": {},
   "source": [
    "Index | Field | Values\n",
    "---|---|---\n",
    "0 | 4-digit year | 2016\n",
    "1 | Month | 1 to 12\n",
    "2 | Day | 1 to 31\n",
    "3 | Hour | 0 to 23\n",
    "4 | Minute | 0 to 59\n",
    "5 | Second | 0 to 61 (60 or 61 are leap-seconds)\n",
    "6 | Day of Week | 0 to 6 (0 is Monday)\n",
    "7 | Day of year | 1 to 366 (Julian day)\n",
    "8 | Daylight savings | -1, 0, 1, -1 means library determines DST"
   ]
  },
  {
   "cell_type": "code",
   "execution_count": 2,
   "metadata": {},
   "outputs": [
    {
     "name": "stdout",
     "output_type": "stream",
     "text": [
      "time.struct_time(tm_year=2023, tm_mon=4, tm_mday=16, tm_hour=20, tm_min=31, tm_sec=15, tm_wday=6, tm_yday=106, tm_isdst=0)\n"
     ]
    }
   ],
   "source": [
    "import time\n",
    "\n",
    "print (time.localtime())"
   ]
  },
  {
   "attachments": {},
   "cell_type": "markdown",
   "metadata": {},
   "source": [
    "Index | Attributes | Values\n",
    "---|---|---\n",
    "0 | tm_year | 2016\n",
    "1 | tm_mon | 1 to 12\n",
    "2 | tm_mday | 1 to 31\n",
    "3 | tm_hour | 0 to 23\n",
    "4 | tm_min | 0 to 59\n",
    "5 | tm_sec | 0 to 61 (60 or 61 are leap-seconds)\n",
    "6 | tm_wday | 0 to 6 (0 is Monday)\n",
    "7 | tm_yday | 1 to 366 (Julian day)\n",
    "8 | tm_isdst | -1, 0, 1, -1 means library determines DST"
   ]
  },
  {
   "attachments": {},
   "cell_type": "markdown",
   "metadata": {},
   "source": [
    "### Getting current time"
   ]
  },
  {
   "cell_type": "code",
   "execution_count": 3,
   "metadata": {},
   "outputs": [
    {
     "name": "stdout",
     "output_type": "stream",
     "text": [
      "Local current time : time.struct_time(tm_year=2023, tm_mon=4, tm_mday=16, tm_hour=20, tm_min=32, tm_sec=52, tm_wday=6, tm_yday=106, tm_isdst=0)\n"
     ]
    }
   ],
   "source": [
    "#!/usr/bin/python3\n",
    "\n",
    "import time\n",
    "\n",
    "localtime = time.localtime(time.time())\n",
    "print (\"Local current time :\", localtime)"
   ]
  },
  {
   "attachments": {},
   "cell_type": "markdown",
   "metadata": {},
   "source": [
    "### Getting formatted time"
   ]
  },
  {
   "cell_type": "code",
   "execution_count": null,
   "metadata": {},
   "outputs": [],
   "source": [
    "#!/usr/bin/python3\n",
    "\n",
    "import time\n",
    "\n",
    "localtime = time.asctime( time.localtime(time.time()) )\n",
    "print (\"Local current time :\", localtime)"
   ]
  },
  {
   "attachments": {},
   "cell_type": "markdown",
   "metadata": {},
   "source": [
    "### Getting calendar for a month"
   ]
  },
  {
   "cell_type": "code",
   "execution_count": 5,
   "metadata": {},
   "outputs": [
    {
     "name": "stdout",
     "output_type": "stream",
     "text": [
      "Here is the calendar:\n",
      "      May 2023\n",
      "Mo Tu We Th Fr Sa Su\n",
      " 1  2  3  4  5  6  7\n",
      " 8  9 10 11 12 13 14\n",
      "15 16 17 18 19 20 21\n",
      "22 23 24 25 26 27 28\n",
      "29 30 31\n",
      "\n"
     ]
    }
   ],
   "source": [
    "#!/usr/bin/python3\n",
    "\n",
    "import calendar\n",
    "\n",
    "cal = calendar.month(2023, 5)\n",
    "\n",
    "print (\"Here is the calendar:\")\n",
    "print (cal)"
   ]
  },
  {
   "attachments": {},
   "cell_type": "markdown",
   "metadata": {},
   "source": [
    "### The time Module"
   ]
  },
  {
   "attachments": {},
   "cell_type": "markdown",
   "metadata": {},
   "source": [
    "SN | Function | Description\n",
    "---|---|---\n",
    "1 | time.altzone | The offset of the local DST timezone, in seconds west of UTC, if one is defined. This is negative if the local DST timezone is east of UTC (as in Western Europe, including the UK). Use this if the daylight is nonzero.\n",
    "2 | time.asctime([tupletime]) | Accepts a time-tuple and returns a readable 24-character string such as 'Tue Dec 11 18:07:14 2008'.\n",
    "3 | time.clock( ) | Returns the current CPU time as a floating-point number of seconds. To measure computational costs of different approaches, the value of time.clock is more useful than that of time.time().\n",
    "4 | time.ctime([secs]) | Like asctime(localtime(secs)) and without arguments is like asctime( )\n",
    "5 | time.gmtime([secs]) | Accepts an instant expressed in seconds since the epoch and returns a time-tuple t with the UTC time. Note : t.tm_isdst is always 0\n",
    "6 | time.localtime([secs]) | Accepts an instant expressed in seconds since the epoch and returns a time-tuple t with the local time (t.tm_isdst is 0 or 1, depending on whether DST applies to instant secs by local rules).\n",
    "7 | time.mktime(tupletime) | Accepts an instant expressed as a time-tuple in local time and returns a floatingpoint value with the instant expressed in seconds since the epoch.\n",
    "8 | time.sleep(secs) | Suspends the calling thread for secs seconds.\n",
    "9 | time.strftime(fmt[,tupletime]) | Accepts an instant expressed as a time-tuple in local time and returns a string representing the instant as specified by string fmt.\n",
    "10 | time.strptime(str,fmt='%a %b %d %H:%M:%S %Y') | Parses str according to format string fmt and returns the instant in time-tuple format.\n",
    "11 | time.time( ) | Returns the current time instant, a floating-point number of seconds since the epoch.\n",
    "12 | time.tzset() | Resets the time conversion rules used by the library routines. The environment variable TZ specifies how this is done."
   ]
  },
  {
   "attachments": {},
   "cell_type": "markdown",
   "metadata": {},
   "source": [
    "### Time `altzone()` Method"
   ]
  },
  {
   "cell_type": "code",
   "execution_count": 7,
   "metadata": {},
   "outputs": [
    {
     "data": {
      "text/plain": [
       "7200"
      ]
     },
     "execution_count": 7,
     "metadata": {},
     "output_type": "execute_result"
    }
   ],
   "source": [
    "# Syntax\n",
    "\n",
    "time.altzone"
   ]
  },
  {
   "cell_type": "code",
   "execution_count": null,
   "metadata": {},
   "outputs": [],
   "source": [
    "#!/usr/bin/python3\n",
    "\n",
    "import time\n",
    "\n",
    "print (\"time.altzone : \", time.altzone)"
   ]
  },
  {
   "attachments": {},
   "cell_type": "markdown",
   "metadata": {},
   "source": [
    "### Time `asctime()` Method"
   ]
  },
  {
   "cell_type": "code",
   "execution_count": null,
   "metadata": {},
   "outputs": [],
   "source": [
    "# Syntax\n",
    "\n",
    "time.asctime([t])"
   ]
  },
  {
   "cell_type": "code",
   "execution_count": 9,
   "metadata": {},
   "outputs": [
    {
     "name": "stdout",
     "output_type": "stream",
     "text": [
      "asctime :  Sun Apr 16 20:40:22 2023\n"
     ]
    }
   ],
   "source": [
    "#!/usr/bin/python3\n",
    "\n",
    "import time\n",
    "\n",
    "t = time.localtime()\n",
    "\n",
    "print (\"asctime : \",time.asctime(t))"
   ]
  },
  {
   "attachments": {},
   "cell_type": "markdown",
   "metadata": {},
   "source": [
    "Time clock() Method"
   ]
  },
  {
   "cell_type": "code",
   "execution_count": null,
   "metadata": {},
   "outputs": [],
   "source": []
  },
  {
   "cell_type": "code",
   "execution_count": null,
   "metadata": {},
   "outputs": [],
   "source": []
  },
  {
   "cell_type": "code",
   "execution_count": null,
   "metadata": {},
   "outputs": [],
   "source": []
  },
  {
   "cell_type": "code",
   "execution_count": null,
   "metadata": {},
   "outputs": [],
   "source": [
    "%reload_ext watermark\n",
    "%watermark -a \"Caique Miranda\" -gu \"caiquemiranda\" -iv"
   ]
  },
  {
   "attachments": {},
   "cell_type": "markdown",
   "metadata": {},
   "source": [
    "### End."
   ]
  }
 ],
 "metadata": {
  "kernelspec": {
   "display_name": "Python 3",
   "language": "python",
   "name": "python3"
  },
  "language_info": {
   "codemirror_mode": {
    "name": "ipython",
    "version": 3
   },
   "file_extension": ".py",
   "mimetype": "text/x-python",
   "name": "python",
   "nbconvert_exporter": "python",
   "pygments_lexer": "ipython3",
   "version": "3.10.5"
  },
  "orig_nbformat": 4
 },
 "nbformat": 4,
 "nbformat_minor": 2
}
