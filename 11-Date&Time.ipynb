{
 "cells": [
  {
   "cell_type": "code",
   "execution_count": null,
   "metadata": {},
   "outputs": [],
   "source": [
    "# Versão da Linguagem Python\n",
    "from platform import python_version\n",
    "print('Versão de Python Neste Jupyter Notebook:', python_version())\n",
    "\n",
    "# usaremos o filtro 'warning' para deixar mais limpo.\n",
    "import warnings\n",
    "warnings.filterwarnings('ignore')"
   ]
  },
  {
   "cell_type": "code",
   "execution_count": 1,
   "metadata": {},
   "outputs": [
    {
     "name": "stdout",
     "output_type": "stream",
     "text": [
      "Number of ticks since 12:00am, January 1, 1970: 1681687760.882675\n"
     ]
    }
   ],
   "source": [
    "#!/usr/bin/python3\n",
    "\n",
    "import time; # This is required to include time module.\n",
    "\n",
    "ticks = time.time()\n",
    "\n",
    "print (\"Number of ticks since 12:00am, January 1, 1970:\", ticks)"
   ]
  },
  {
   "attachments": {},
   "cell_type": "markdown",
   "metadata": {},
   "source": [
    "### What is TimeTuple?"
   ]
  },
  {
   "attachments": {},
   "cell_type": "markdown",
   "metadata": {},
   "source": [
    "Index | Field | Values\n",
    "---|---|---\n",
    "0 | 4-digit year | 2016\n",
    "1 | Month | 1 to 12\n",
    "2 | Day | 1 to 31\n",
    "3 | Hour | 0 to 23\n",
    "4 | Minute | 0 to 59\n",
    "5 | Second | 0 to 61 (60 or 61 are leap-seconds)\n",
    "6 | Day of Week | 0 to 6 (0 is Monday)\n",
    "7 | Day of year | 1 to 366 (Julian day)\n",
    "8 | Daylight savings | -1, 0, 1, -1 means library determines DST"
   ]
  },
  {
   "cell_type": "code",
   "execution_count": 2,
   "metadata": {},
   "outputs": [
    {
     "name": "stdout",
     "output_type": "stream",
     "text": [
      "time.struct_time(tm_year=2023, tm_mon=4, tm_mday=16, tm_hour=20, tm_min=31, tm_sec=15, tm_wday=6, tm_yday=106, tm_isdst=0)\n"
     ]
    }
   ],
   "source": [
    "import time\n",
    "\n",
    "print (time.localtime())"
   ]
  },
  {
   "attachments": {},
   "cell_type": "markdown",
   "metadata": {},
   "source": [
    "Index | Attributes | Values\n",
    "---|---|---\n",
    "0 | tm_year | 2016\n",
    "1 | tm_mon | 1 to 12\n",
    "2 | tm_mday | 1 to 31\n",
    "3 | tm_hour | 0 to 23\n",
    "4 | tm_min | 0 to 59\n",
    "5 | tm_sec | 0 to 61 (60 or 61 are leap-seconds)\n",
    "6 | tm_wday | 0 to 6 (0 is Monday)\n",
    "7 | tm_yday | 1 to 366 (Julian day)\n",
    "8 | tm_isdst | -1, 0, 1, -1 means library determines DST"
   ]
  },
  {
   "attachments": {},
   "cell_type": "markdown",
   "metadata": {},
   "source": [
    "### Getting current time"
   ]
  },
  {
   "cell_type": "code",
   "execution_count": 3,
   "metadata": {},
   "outputs": [
    {
     "name": "stdout",
     "output_type": "stream",
     "text": [
      "Local current time : time.struct_time(tm_year=2023, tm_mon=4, tm_mday=16, tm_hour=20, tm_min=32, tm_sec=52, tm_wday=6, tm_yday=106, tm_isdst=0)\n"
     ]
    }
   ],
   "source": [
    "#!/usr/bin/python3\n",
    "\n",
    "import time\n",
    "\n",
    "localtime = time.localtime(time.time())\n",
    "print (\"Local current time :\", localtime)"
   ]
  },
  {
   "attachments": {},
   "cell_type": "markdown",
   "metadata": {},
   "source": [
    "### Getting formatted time"
   ]
  },
  {
   "cell_type": "code",
   "execution_count": null,
   "metadata": {},
   "outputs": [],
   "source": [
    "#!/usr/bin/python3\n",
    "\n",
    "import time\n",
    "\n",
    "localtime = time.asctime( time.localtime(time.time()) )\n",
    "print (\"Local current time :\", localtime)"
   ]
  },
  {
   "attachments": {},
   "cell_type": "markdown",
   "metadata": {},
   "source": [
    "### Getting calendar for a month"
   ]
  },
  {
   "cell_type": "code",
   "execution_count": 5,
   "metadata": {},
   "outputs": [
    {
     "name": "stdout",
     "output_type": "stream",
     "text": [
      "Here is the calendar:\n",
      "      May 2023\n",
      "Mo Tu We Th Fr Sa Su\n",
      " 1  2  3  4  5  6  7\n",
      " 8  9 10 11 12 13 14\n",
      "15 16 17 18 19 20 21\n",
      "22 23 24 25 26 27 28\n",
      "29 30 31\n",
      "\n"
     ]
    }
   ],
   "source": [
    "#!/usr/bin/python3\n",
    "\n",
    "import calendar\n",
    "\n",
    "cal = calendar.month(2023, 5)\n",
    "\n",
    "print (\"Here is the calendar:\")\n",
    "print (cal)"
   ]
  },
  {
   "attachments": {},
   "cell_type": "markdown",
   "metadata": {},
   "source": [
    "### The time Module"
   ]
  },
  {
   "attachments": {},
   "cell_type": "markdown",
   "metadata": {},
   "source": [
    "SN | Function | Description\n",
    "---|---|---\n",
    "1 | time.altzone | The offset of the local DST timezone, in seconds west of UTC, if one is defined. This is negative if the local DST timezone is east of UTC (as in Western Europe, including the UK). Use this if the daylight is nonzero.\n",
    "2 | time.asctime([tupletime]) | Accepts a time-tuple and returns a readable 24-character string such as 'Tue Dec 11 18:07:14 2008'.\n",
    "3 | time.clock( ) | Returns the current CPU time as a floating-point number of seconds. To measure computational costs of different approaches, the value of time.clock is more useful than that of time.time().\n",
    "4 | time.ctime([secs]) | Like asctime(localtime(secs)) and without arguments is like asctime( )\n",
    "5 | time.gmtime([secs]) | Accepts an instant expressed in seconds since the epoch and returns a time-tuple t with the UTC time. Note : t.tm_isdst is always 0\n",
    "6 | time.localtime([secs]) | Accepts an instant expressed in seconds since the epoch and returns a time-tuple t with the local time (t.tm_isdst is 0 or 1, depending on whether DST applies to instant secs by local rules).\n",
    "7 | time.mktime(tupletime) | Accepts an instant expressed as a time-tuple in local time and returns a floatingpoint value with the instant expressed in seconds since the epoch.\n",
    "8 | time.sleep(secs) | Suspends the calling thread for secs seconds.\n",
    "9 | time.strftime(fmt[,tupletime]) | Accepts an instant expressed as a time-tuple in local time and returns a string representing the instant as specified by string fmt.\n",
    "10 | time.strptime(str,fmt='%a %b %d %H:%M:%S %Y') | Parses str according to format string fmt and returns the instant in time-tuple format.\n",
    "11 | time.time( ) | Returns the current time instant, a floating-point number of seconds since the epoch.\n",
    "12 | time.tzset() | Resets the time conversion rules used by the library routines. The environment variable TZ specifies how this is done."
   ]
  },
  {
   "attachments": {},
   "cell_type": "markdown",
   "metadata": {},
   "source": [
    "### Time `altzone()` Method"
   ]
  },
  {
   "cell_type": "code",
   "execution_count": 7,
   "metadata": {},
   "outputs": [
    {
     "data": {
      "text/plain": [
       "7200"
      ]
     },
     "execution_count": 7,
     "metadata": {},
     "output_type": "execute_result"
    }
   ],
   "source": [
    "# Syntax\n",
    "\n",
    "time.altzone"
   ]
  },
  {
   "cell_type": "code",
   "execution_count": null,
   "metadata": {},
   "outputs": [],
   "source": [
    "#!/usr/bin/python3\n",
    "\n",
    "import time\n",
    "\n",
    "print (\"time.altzone : \", time.altzone)"
   ]
  },
  {
   "attachments": {},
   "cell_type": "markdown",
   "metadata": {},
   "source": [
    "### Time `asctime()` Method"
   ]
  },
  {
   "cell_type": "code",
   "execution_count": null,
   "metadata": {},
   "outputs": [],
   "source": [
    "# Syntax\n",
    "\n",
    "time.asctime([t])"
   ]
  },
  {
   "cell_type": "code",
   "execution_count": 9,
   "metadata": {},
   "outputs": [
    {
     "name": "stdout",
     "output_type": "stream",
     "text": [
      "asctime :  Sun Apr 16 20:40:22 2023\n"
     ]
    }
   ],
   "source": [
    "#!/usr/bin/python3\n",
    "\n",
    "import time\n",
    "\n",
    "t = time.localtime()\n",
    "\n",
    "print (\"asctime : \",time.asctime(t))"
   ]
  },
  {
   "attachments": {},
   "cell_type": "markdown",
   "metadata": {},
   "source": [
    "### Time `clock()` Method"
   ]
  },
  {
   "cell_type": "code",
   "execution_count": null,
   "metadata": {},
   "outputs": [],
   "source": [
    "# Syntax\n",
    "\n",
    "time.clock()"
   ]
  },
  {
   "cell_type": "code",
   "execution_count": null,
   "metadata": {},
   "outputs": [],
   "source": [
    "#!/usr/bin/python3\n",
    "\n",
    "import time\n",
    "\n",
    "def procedure():\n",
    "    time.sleep(2.5)\n",
    "\n",
    "# measure process time\n",
    "t0 = time.clock()\n",
    "procedure()\n",
    "print (time.clock() - t0, \"seconds process time\")\n",
    "\n",
    "# measure wall time\n",
    "t0 = time.time()\n",
    "procedure()\n",
    "print (time.time() - t0, \"seconds wall time\")"
   ]
  },
  {
   "attachments": {},
   "cell_type": "markdown",
   "metadata": {},
   "source": [
    "### Time `ctime()` Method"
   ]
  },
  {
   "cell_type": "code",
   "execution_count": null,
   "metadata": {},
   "outputs": [],
   "source": [
    "# Syntax\n",
    "\n",
    "time.ctime([sec])"
   ]
  },
  {
   "cell_type": "code",
   "execution_count": null,
   "metadata": {},
   "outputs": [],
   "source": [
    "#!/usr/bin/python3\n",
    "\n",
    "import time\n",
    "\n",
    "print (\"ctime : \", time.ctime())"
   ]
  },
  {
   "attachments": {},
   "cell_type": "markdown",
   "metadata": {},
   "source": [
    "### Time `gmtime()` Method"
   ]
  },
  {
   "cell_type": "code",
   "execution_count": null,
   "metadata": {},
   "outputs": [],
   "source": [
    "# Syntax\n",
    "\n",
    "time.gmtime([sec])"
   ]
  },
  {
   "cell_type": "code",
   "execution_count": null,
   "metadata": {},
   "outputs": [],
   "source": [
    "#!/usr/bin/python3\n",
    "\n",
    "import time\n",
    "\n",
    "print (\"gmtime :\", time.gmtime(1455508609.34375))"
   ]
  },
  {
   "attachments": {},
   "cell_type": "markdown",
   "metadata": {},
   "source": [
    "### Time `localtime()` Method"
   ]
  },
  {
   "cell_type": "code",
   "execution_count": null,
   "metadata": {},
   "outputs": [],
   "source": [
    "# Syntax\n",
    "\n",
    "time.localtime([sec])"
   ]
  },
  {
   "cell_type": "code",
   "execution_count": null,
   "metadata": {},
   "outputs": [],
   "source": [
    "#!/usr/bin/python3\n",
    "\n",
    "import time\n",
    "\n",
    "print (\"time.localtime() : %s\" , time.localtime())"
   ]
  },
  {
   "attachments": {},
   "cell_type": "markdown",
   "metadata": {},
   "source": [
    "### Time `mktime()` Method"
   ]
  },
  {
   "cell_type": "code",
   "execution_count": null,
   "metadata": {},
   "outputs": [],
   "source": [
    "# Syntax\n",
    "\n",
    "time.mktime(t)"
   ]
  },
  {
   "cell_type": "code",
   "execution_count": null,
   "metadata": {},
   "outputs": [],
   "source": [
    "#!/usr/bin/python3\n",
    "\n",
    "import time\n",
    "\n",
    "t = (2016, 2, 15, 10, 13, 38, 1, 48, 0)\n",
    "d = time.mktime(t)\n",
    "\n",
    "print (\"time.mktime(t) : %f\" % d)\n",
    "print (\"asctime(localtime(secs)): %s\" % time.asctime(time.localtime(d)))"
   ]
  },
  {
   "attachments": {},
   "cell_type": "markdown",
   "metadata": {},
   "source": [
    "### Time `sleep()` Method"
   ]
  },
  {
   "cell_type": "code",
   "execution_count": null,
   "metadata": {},
   "outputs": [],
   "source": [
    "# Syntax\n",
    "\n",
    "time.sleep(t)"
   ]
  },
  {
   "cell_type": "code",
   "execution_count": null,
   "metadata": {},
   "outputs": [],
   "source": [
    "#!/usr/bin/python3\n",
    "\n",
    "import time\n",
    "\n",
    "print (\"Start : %s\" % time.ctime())\n",
    "\n",
    "time.sleep( 5 )\n",
    "\n",
    "print (\"End : %s\" % time.ctime())"
   ]
  },
  {
   "attachments": {},
   "cell_type": "markdown",
   "metadata": {},
   "source": [
    "### Time `strftime()` Method"
   ]
  },
  {
   "cell_type": "code",
   "execution_count": null,
   "metadata": {},
   "outputs": [],
   "source": [
    "# Syntax\n",
    "\n",
    "time.strftime(format[, t])"
   ]
  },
  {
   "attachments": {},
   "cell_type": "markdown",
   "metadata": {},
   "source": [
    "#### Directive\n",
    "\n",
    "- %a - abbreviated weekday name\n",
    "- %A - full weekday name\n",
    "- %b - abbreviated month name\n",
    "- %B - full month name\n",
    "- %c - preferred date and time representation\n",
    "- %C - century number (the year divided by 100, range 00 to 99)\n",
    "- %d - day of the month (01 to 31)\n",
    "- %D - same as %m/%d/%y\n",
    "- %e - day of the month (1 to 31)\n",
    "- %g - like %G, but without the century\n",
    "- %G - 4-digit year corresponding to the ISO week number (see %V).\n",
    "- %h - same as %b\n",
    "- %H - hour, using a 24-hour clock (00 to 23)\n",
    "- %I - hour, using a 12-hour clock (01 to 12)\n",
    "- %j - day of the year (001 to 366)\n",
    "- %m - month (01 to 12)\n",
    "- %M - minute\n",
    "- %n - newline character\n",
    "- %p - either am or pm according to the given time value\n",
    "- %r - time in a.m. and p.m. notation\n",
    "- %R - time in 24 hour notation\n",
    "- %S - second\n",
    "- %t - tab character\n",
    "- %T - current time, equal to %H:%M:%S\n",
    "- %u - weekday as a number (1 to 7), Monday=1. Warning: In Sun Solaris Sunday=1\n",
    "- %U - week number of the current year, starting with the first Sunday as the first\n",
    "day of the first week\n",
    "- %V - The ISO 8601 week number of the current year (01 to 53), where week 1 is\n",
    "the first week that has at least 4 days in the current year, and with Monday as the\n",
    "first day of the week\n",
    "- %W - week number of the current year, starting with the first Monday as the first\n",
    "day of the first week\n",
    "- %w - day of the week as a decimal, Sunday=0\n",
    "- %x - preferred date representation without the time\n",
    "- %X - preferred time representation without the date\n",
    "- %y - year without a century (range 00 to 99)\n",
    "- %Y - year including the century\n",
    "- %Z or %z - time zone or name or abbreviation\n",
    "- %% - a literal % character"
   ]
  },
  {
   "cell_type": "code",
   "execution_count": 39,
   "metadata": {},
   "outputs": [
    {
     "name": "stdout",
     "output_type": "stream",
     "text": [
      "Dec 31 2022 10:39:45\n"
     ]
    }
   ],
   "source": [
    "#!/usr/bin/python3\n",
    "\n",
    "import time\n",
    "\n",
    "t = (2022, 12, 31, 10, 39, 45, 1, 48, 0)\n",
    "t = time.mktime(t)\n",
    "\n",
    "print (time.strftime(\"%b %d %Y %H:%M:%S\", time.localtime(t)))"
   ]
  },
  {
   "attachments": {},
   "cell_type": "markdown",
   "metadata": {},
   "source": [
    "### Time `strptime()` Method"
   ]
  },
  {
   "cell_type": "code",
   "execution_count": null,
   "metadata": {},
   "outputs": [],
   "source": [
    "# Syntax\n",
    "\n",
    "time.strptime(string[, format])"
   ]
  },
  {
   "attachments": {},
   "cell_type": "markdown",
   "metadata": {},
   "source": [
    "#### Directive\n",
    "\n",
    "- %a - abbreviated weekday name\n",
    "- %A - full weekday name\n",
    "- %b - abbreviated month name\n",
    "- %B - full month name\n",
    "- %c - preferred date and time representation\n",
    "- %C - century number (the year divided by 100, range 00 to 99)\n",
    "- %d - day of the month (01 to 31)\n",
    "- %D - same as %m/%d/%y\n",
    "- %e - day of the month (1 to 31)\n",
    "- %g - like %G, but without the century\n",
    "- %G - 4-digit year corresponding to the ISO week number (see %V).\n",
    "- %h - same as %b\n",
    "- %H - hour, using a 24-hour clock (00 to 23)\n",
    "- %I - hour, using a 12-hour clock (01 to 12)\n",
    "- %j - day of the year (001 to 366)\n",
    "- %m - month (01 to 12)\n",
    "- %M - minute\n",
    "- %n - newline character\n",
    "- %p - either am or pm according to the given time value\n",
    "- %r - time in a.m. and p.m. notation\n",
    "- %R - time in 24 hour notation\n",
    "- %S - second\n",
    "- %t - tab character\n",
    "- %T - current time, equal to %H:%M:%S\n",
    "- %u - weekday as a number (1 to 7), Monday=1. Warning: In Sun Solaris Sunday=1\n",
    "- %U - week number of the current year, starting with the first Sunday as the first\n",
    "day of the first week\n",
    "- %V - The ISO 8601 week number of the current year (01 to 53), where week 1 is\n",
    "the first week that has at least 4 days in the current year, and with Monday as the\n",
    "first day of the week\n",
    "- %W - week number of the current year, starting with the first Monday as the first\n",
    "day of the first week\n",
    "- %w - day of the week as a decimal, Sunday=0\n",
    "- %x - preferred date representation without the time\n",
    "- %X - preferred time representation without the date\n",
    "- %y - year without a century (range 00 to 99)\n",
    "- %Y - year including the century\n",
    "- %Z or %z - time zone or name or abbreviation\n",
    "- %% - a literal % character"
   ]
  },
  {
   "cell_type": "code",
   "execution_count": null,
   "metadata": {},
   "outputs": [],
   "source": [
    "#!/usr/bin/python3\n",
    "\n",
    "import time\n",
    "\n",
    "struct_time = time.strptime(\"30 12 2015\", \"%d %m %Y\")\n",
    "\n",
    "print (\"tuple : \", struct_time)"
   ]
  },
  {
   "attachments": {},
   "cell_type": "markdown",
   "metadata": {},
   "source": [
    "### Time `time()` Method"
   ]
  },
  {
   "cell_type": "code",
   "execution_count": null,
   "metadata": {},
   "outputs": [],
   "source": [
    "# Syntax\n",
    "\n",
    "time.time()"
   ]
  },
  {
   "cell_type": "code",
   "execution_count": null,
   "metadata": {},
   "outputs": [],
   "source": [
    "#!/usr/bin/python3\n",
    "\n",
    "import time\n",
    "\n",
    "print (\"time.time(): %f \" % time.time())\n",
    "\n",
    "print (time.localtime( time.time() ))\n",
    "\n",
    "print (time.asctime( time.localtime(time.time()) ))"
   ]
  },
  {
   "cell_type": "code",
   "execution_count": null,
   "metadata": {},
   "outputs": [],
   "source": []
  },
  {
   "cell_type": "code",
   "execution_count": null,
   "metadata": {},
   "outputs": [],
   "source": []
  },
  {
   "cell_type": "code",
   "execution_count": null,
   "metadata": {},
   "outputs": [],
   "source": []
  },
  {
   "cell_type": "code",
   "execution_count": null,
   "metadata": {},
   "outputs": [],
   "source": []
  },
  {
   "cell_type": "code",
   "execution_count": null,
   "metadata": {},
   "outputs": [],
   "source": []
  },
  {
   "cell_type": "code",
   "execution_count": null,
   "metadata": {},
   "outputs": [],
   "source": [
    "%reload_ext watermark\n",
    "%watermark -a \"Caique Miranda\" -gu \"caiquemiranda\" -iv"
   ]
  },
  {
   "attachments": {},
   "cell_type": "markdown",
   "metadata": {},
   "source": [
    "### End."
   ]
  }
 ],
 "metadata": {
  "kernelspec": {
   "display_name": "Python 3",
   "language": "python",
   "name": "python3"
  },
  "language_info": {
   "codemirror_mode": {
    "name": "ipython",
    "version": 3
   },
   "file_extension": ".py",
   "mimetype": "text/x-python",
   "name": "python",
   "nbconvert_exporter": "python",
   "pygments_lexer": "ipython3",
   "version": "3.10.5"
  },
  "orig_nbformat": 4
 },
 "nbformat": 4,
 "nbformat_minor": 2
}
