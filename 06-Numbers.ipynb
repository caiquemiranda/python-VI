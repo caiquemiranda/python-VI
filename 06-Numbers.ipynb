{
 "cells": [
  {
   "cell_type": "code",
   "execution_count": null,
   "metadata": {},
   "outputs": [],
   "source": [
    "# Versão da Linguagem Python\n",
    "from platform import python_version\n",
    "print('Versão de Python Neste Jupyter Notebook:', python_version())\n",
    "\n",
    "# usaremos o filtro 'warning' para deixar mais limpo.\n",
    "import warnings\n",
    "warnings.filterwarnings('ignore')"
   ]
  },
  {
   "cell_type": "code",
   "execution_count": null,
   "metadata": {},
   "outputs": [],
   "source": [
    "var1 = 1\n",
    "var2 = 10"
   ]
  },
  {
   "cell_type": "code",
   "execution_count": null,
   "metadata": {},
   "outputs": [],
   "source": [
    "# delete\n",
    "del var\n",
    "del var_a, var_b"
   ]
  },
  {
   "attachments": {},
   "cell_type": "markdown",
   "metadata": {},
   "source": [
    "- int (signed integer)\n",
    "- float (floating point values)\n",
    "- complex (complex numbers)"
   ]
  },
  {
   "cell_type": "code",
   "execution_count": null,
   "metadata": {},
   "outputs": [],
   "source": [
    "number = 0xA0F #Hexa-decimal\n",
    "number"
   ]
  },
  {
   "cell_type": "code",
   "execution_count": null,
   "metadata": {},
   "outputs": [],
   "source": [
    "number=0o37 #Octal\n",
    "number"
   ]
  },
  {
   "attachments": {},
   "cell_type": "markdown",
   "metadata": {},
   "source": [
    "int | float | complex\n",
    "---|---|---\n",
    "10 | 0.0 | 3.14j\n",
    "100| 15.20 |45.j\n",
    "-786| -21.9| 9.322e-36j\n",
    "080| 32.3+e18| .876j\n",
    "-0490| -90.| -.6545+0J\n",
    "-0x260| -32.54e100| 3e+26J\n",
    "0x69| 70.2-E12 |4.53e-7j"
   ]
  },
  {
   "attachments": {},
   "cell_type": "markdown",
   "metadata": {},
   "source": [
    "### Number Type Conversion"
   ]
  },
  {
   "attachments": {},
   "cell_type": "markdown",
   "metadata": {},
   "source": [
    "- Type int(x) to convert x to a plain integer.\n",
    "- Type long(x) to convert x to a long integer.\n",
    "- Type float(x) to convert x to a floating-point number.\n",
    "- Type complex(x) to convert x to a complex number with real part x and imaginary part zero.\n",
    "- Type complex(x, y) to convert x and y to a complex number with real part x and imaginary part y. x and y are numeric expressions."
   ]
  },
  {
   "attachments": {},
   "cell_type": "markdown",
   "metadata": {},
   "source": [
    "### Mathematical Functions"
   ]
  },
  {
   "attachments": {},
   "cell_type": "markdown",
   "metadata": {},
   "source": [
    "Function Returns | ( Description )\n",
    "---|---\n",
    "abs(x) | The absolute value of x: the (positive) distance between x and zero.\n",
    "ceil(x) | The ceiling of x: the smallest integer not less than x.\n",
    "cmp(x, y) | -1 if x < y, 0 if x == y, or 1 if x > y. Deprecated in Python 3; Instead use return (x>y)-(x<y).\n",
    "exp(x) | The exponential of x: ex\n",
    "fabs(x) | The absolute value of x.\n",
    "floor(x) | The floor of x: the largest integer not greater than x.\n",
    "log(x) | The natural logarithm of x, for x> 0.\n",
    "log10(x) | The base-10 logarithm of x for x> 0.\n",
    "max(x1, x2,...) | The largest of its arguments: the value closest to positive infinity.\n",
    "min(x1, x2,...) | The smallest of its arguments: the value closest to negative infinity.\n",
    "modf(x) | The fractional and integer parts of x in a two-item tuple. Both parts have the same sign as x. The integer part is returned as a float.\n",
    "pow(x, y) | The value of x**y. \n",
    "round(x [,n]) | x rounded to n digits from the decimal point. Python rounds away from zero as a tie-breaker: round(0.5) is 1.0 and round(-0.5) is - 1.0.\n",
    "sqrt(x) | The square root of x for x > 0."
   ]
  },
  {
   "attachments": {},
   "cell_type": "markdown",
   "metadata": {},
   "source": [
    "### Number `abs()` Method"
   ]
  },
  {
   "cell_type": "code",
   "execution_count": null,
   "metadata": {},
   "outputs": [],
   "source": [
    "# Syntax\n",
    "abs(x)"
   ]
  },
  {
   "cell_type": "code",
   "execution_count": null,
   "metadata": {},
   "outputs": [],
   "source": [
    "#!/usr/bin/python3\n",
    "\n",
    "print (\"abs(-45) : \", abs(-45))\n",
    "print (\"abs(100.12) : \", abs(100.12))"
   ]
  },
  {
   "attachments": {},
   "cell_type": "markdown",
   "metadata": {},
   "source": [
    "### Number `ceil()` Method"
   ]
  },
  {
   "cell_type": "code",
   "execution_count": null,
   "metadata": {},
   "outputs": [],
   "source": [
    "# Syntax \n",
    "\n",
    "import math\n",
    "\n",
    "math.ceil(x)"
   ]
  },
  {
   "cell_type": "code",
   "execution_count": null,
   "metadata": {},
   "outputs": [],
   "source": [
    "#!/usr/bin/python3\n",
    "\n",
    "import math # This will import math module\n",
    "\n",
    "print (\"math.ceil(-45.17) : \", math.ceil(-45.17))\n",
    "print (\"math.ceil(100.12) : \", math.ceil(100.12))\n",
    "print (\"math.ceil(100.72) : \", math.ceil(100.72))\n",
    "print (\"math.ceil(math.pi) : \", math.ceil(math.pi))"
   ]
  },
  {
   "attachments": {},
   "cell_type": "markdown",
   "metadata": {},
   "source": [
    "### Number `exp()` Method"
   ]
  },
  {
   "cell_type": "code",
   "execution_count": null,
   "metadata": {},
   "outputs": [],
   "source": [
    "# Syntax\n",
    "\n",
    "import math\n",
    "\n",
    "math.exp(x)"
   ]
  },
  {
   "cell_type": "code",
   "execution_count": null,
   "metadata": {},
   "outputs": [],
   "source": [
    "#!/usr/bin/python3\n",
    "\n",
    "import math # This will import math module\n",
    "\n",
    "print (\"math.exp(-45.17) : \", math.exp(-45.17))\n",
    "print (\"math.exp(100.12) : \", math.exp(100.12))\n",
    "print (\"math.exp(100.72) : \", math.exp(100.72))\n",
    "print (\"math.exp(math.pi) : \", math.exp(math.pi))"
   ]
  },
  {
   "attachments": {},
   "cell_type": "markdown",
   "metadata": {},
   "source": [
    "### Number `fabs()` Method"
   ]
  },
  {
   "cell_type": "code",
   "execution_count": null,
   "metadata": {},
   "outputs": [],
   "source": [
    "# Syntax\n",
    "\n",
    "import math\n",
    "\n",
    "math.fabs(x)"
   ]
  },
  {
   "cell_type": "code",
   "execution_count": null,
   "metadata": {},
   "outputs": [],
   "source": [
    "#!/usr/bin/python3\n",
    "\n",
    "import math # This will import math module\n",
    "\n",
    "print (\"math.fabs(-45.17) : \", math.fabs(-45.17))\n",
    "print (\"math.fabs(100.12) : \", math.fabs(100.12))\n",
    "print (\"math.fabs(100.72) : \", math.fabs(100.72))\n",
    "print (\"math.fabs(math.pi) : \", math.fabs(math.pi))"
   ]
  },
  {
   "attachments": {},
   "cell_type": "markdown",
   "metadata": {},
   "source": [
    "### Number `floor()` Method"
   ]
  },
  {
   "cell_type": "code",
   "execution_count": null,
   "metadata": {},
   "outputs": [],
   "source": [
    "# Syntax\n",
    "\n",
    "import math\n",
    "\n",
    "math.floor(x)"
   ]
  },
  {
   "cell_type": "code",
   "execution_count": null,
   "metadata": {},
   "outputs": [],
   "source": [
    "#!/usr/bin/python3\n",
    "\n",
    "import math # This will import math module\n",
    "\n",
    "print (\"math.floor(-45.17) : \", math.floor(-45.17))\n",
    "print (\"math.floor(100.12) : \", math.floor(100.12))\n",
    "print (\"math.floor(100.72) : \", math.floor(100.72))\n",
    "print (\"math.floor(math.pi) : \", math.floor(math.pi))"
   ]
  },
  {
   "attachments": {},
   "cell_type": "markdown",
   "metadata": {},
   "source": [
    "### Number `log()` Method"
   ]
  },
  {
   "cell_type": "code",
   "execution_count": null,
   "metadata": {},
   "outputs": [],
   "source": [
    "# Syntax\n",
    "\n",
    "import math\n",
    "\n",
    "math.log(x)"
   ]
  },
  {
   "cell_type": "code",
   "execution_count": null,
   "metadata": {},
   "outputs": [],
   "source": [
    "#!/usr/bin/python3\n",
    "\n",
    "import math # This will import math module\n",
    "\n",
    "print (\"math.log(100.12) : \", math.log(100.12))\n",
    "print (\"math.log(100.72) : \", math.log(100.72))\n",
    "print (\"math.log(math.pi) : \", math.log(math.pi))"
   ]
  },
  {
   "cell_type": "code",
   "execution_count": null,
   "metadata": {},
   "outputs": [],
   "source": []
  },
  {
   "cell_type": "code",
   "execution_count": null,
   "metadata": {},
   "outputs": [],
   "source": []
  },
  {
   "cell_type": "code",
   "execution_count": null,
   "metadata": {},
   "outputs": [],
   "source": []
  },
  {
   "cell_type": "code",
   "execution_count": null,
   "metadata": {},
   "outputs": [],
   "source": []
  },
  {
   "cell_type": "code",
   "execution_count": null,
   "metadata": {},
   "outputs": [],
   "source": []
  },
  {
   "cell_type": "code",
   "execution_count": null,
   "metadata": {},
   "outputs": [],
   "source": []
  },
  {
   "cell_type": "code",
   "execution_count": null,
   "metadata": {},
   "outputs": [],
   "source": []
  },
  {
   "cell_type": "code",
   "execution_count": null,
   "metadata": {},
   "outputs": [],
   "source": []
  },
  {
   "cell_type": "code",
   "execution_count": null,
   "metadata": {},
   "outputs": [],
   "source": []
  },
  {
   "cell_type": "code",
   "execution_count": null,
   "metadata": {},
   "outputs": [],
   "source": [
    "%reload_ext watermark\n",
    "%watermark -a \"Caique Miranda\" -gu \"caiquemiranda\" -iv"
   ]
  },
  {
   "attachments": {},
   "cell_type": "markdown",
   "metadata": {},
   "source": [
    "### End."
   ]
  }
 ],
 "metadata": {
  "language_info": {
   "name": "python"
  },
  "orig_nbformat": 4
 },
 "nbformat": 4,
 "nbformat_minor": 2
}
