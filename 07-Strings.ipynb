{
 "cells": [
  {
   "cell_type": "code",
   "execution_count": null,
   "metadata": {},
   "outputs": [],
   "source": [
    "# Versão da Linguagem Python\n",
    "from platform import python_version\n",
    "print('Versão de Python Neste Jupyter Notebook:', python_version())\n",
    "\n",
    "# usaremos o filtro 'warning' para deixar mais limpo.\n",
    "import warnings\n",
    "warnings.filterwarnings('ignore')"
   ]
  },
  {
   "cell_type": "code",
   "execution_count": null,
   "metadata": {},
   "outputs": [],
   "source": [
    "var1 = 'Hello World!'\n",
    "var2 = \"Python Programming\""
   ]
  },
  {
   "attachments": {},
   "cell_type": "markdown",
   "metadata": {},
   "source": [
    "### Accessing Values in Strings"
   ]
  },
  {
   "cell_type": "code",
   "execution_count": null,
   "metadata": {},
   "outputs": [],
   "source": [
    "#!/usr/bin/python3\n",
    "\n",
    "var1 = 'Hello World!'\n",
    "var2 = \"Python Programming\"\n",
    "\n",
    "print (\"var1[0]: \", var1[0])\n",
    "print (\"var2[1:5]: \", var2[1:5])"
   ]
  },
  {
   "attachments": {},
   "cell_type": "markdown",
   "metadata": {},
   "source": [
    "### Updating Strings"
   ]
  },
  {
   "cell_type": "code",
   "execution_count": null,
   "metadata": {},
   "outputs": [],
   "source": [
    "#!/usr/bin/python3\n",
    "\n",
    "var1 = 'Hello World!'\n",
    "print (\"Updated String :- \", var1[:6] + 'Python')"
   ]
  },
  {
   "attachments": {},
   "cell_type": "markdown",
   "metadata": {},
   "source": [
    "### Escape Characters"
   ]
  },
  {
   "attachments": {},
   "cell_type": "markdown",
   "metadata": {},
   "source": [
    "Backslash notation | Hexadecimal character | Description\n",
    "---|---|---\n",
    "a | 0x07 | Bell or alert\n",
    "b | 0x08 | Backspace\n",
    "\\cx| |Control-x\n",
    "\\C-x| |Control-x\n",
    "\\e | 0x1b | Escape\n",
    "\\f | 0x0c | Formfeed\n",
    "\\M-\\C-x| |Meta-Control-x\n",
    "\\n | 0x0a | Newline\n",
    "\\nnn | | Octal notation, where n is in the range 0.7\n",
    "\\r | 0x0d | Carriage return\n",
    "\\s | 0x20 | Space\n",
    "\\t | 0x09 | Tab\n",
    "\\v | 0x0b | Vertical tab\n",
    "\\x | |Character x\n",
    "\\xnn| |Hexadecimal notation, where n is in the range 0.9, a.f, or A.F"
   ]
  },
  {
   "attachments": {},
   "cell_type": "markdown",
   "metadata": {},
   "source": [
    "### String Special Operators"
   ]
  },
  {
   "attachments": {},
   "cell_type": "markdown",
   "metadata": {},
   "source": [
    "Operator | Description | Example\n",
    "---|---|---\n",
    "\\+ | Concatenation - Adds values on either side of the operator | a + b will give HelloPython\n",
    "\\* | Repetition - Creates new strings, concatenating multiple copies of the same string | a*2 will give - HelloHello\n",
    "[] | Slice - Gives the character from the given index | a[1] will give e\n",
    "[ : ] | Range Slice - Gives the characters from the given range | a[1:4] will give ell\n",
    "in | Membership - Returns true if a character exists in the given string | H in a will give 1\n",
    "not in | Membership - Returns true if a character does not exist in the given string | M not in a will give 1\n",
    "r/R | Raw String - Suppresses actual meaning of Escape characters. The syntax for raw strings is exactly the same as for normal strings with the exception of the raw string operator, the letter \"r,\" which precedes the quotation marks. The \"r\" can be lowercase (r) or uppercase (R) and must be placed immediately preceding the first quote mark. | print r'\\n' prints \\n and print R'\\n'prints \\n % Format - Performs String formatting See next section\n",
    "% | Format - Performs String formatting | See next section"
   ]
  },
  {
   "attachments": {},
   "cell_type": "markdown",
   "metadata": {},
   "source": [
    "### String Formatting Operator"
   ]
  },
  {
   "cell_type": "code",
   "execution_count": null,
   "metadata": {},
   "outputs": [],
   "source": [
    "#!/usr/bin/python3\n",
    "\n",
    "print (\"My name is %s and weight is %d kg!\" % ('Miranda', 31))"
   ]
  },
  {
   "attachments": {},
   "cell_type": "markdown",
   "metadata": {},
   "source": [
    "Format Symbol | Conversion\n",
    "---|---\n",
    "%c | character\n",
    "%s | string conversion via str() prior to formatting\n",
    "%i | signed decimal integer\n",
    "%d | signed decimal integer\n",
    "%u | unsigned decimal integer\n",
    "%o | octal integer\n",
    "%x | hexadecimal integer (lowercase letters)\n",
    "%X | hexadecimal integer (UPPERcase letters)\n",
    "%e | exponential notation (with lowercase 'e')\n",
    "%E | exponential notation (with UPPERcase 'E')\n",
    "%f | floating point real number\n",
    "%g | the shorter of %f and %e\n",
    "%G | the shorter of %f and %E"
   ]
  },
  {
   "attachments": {},
   "cell_type": "markdown",
   "metadata": {},
   "source": [
    "Symbol | Functionality\n",
    "---|---\n",
    "\\* | argument specifies width or precision\n",
    "\\- | left justification\n",
    "\\+ | display the sign\n",
    "\\<sp> | leave a blank space before a positive number\n",
    "\\# | add the octal leading zero ( '0' ) or hexadecimal leading '0x'\n",
    "or | '0X', depending on whether 'x' or 'X' were used.\n",
    "0 | pad from left with zeros (instead of spaces)\n",
    "% | '%%' leaves you with a single literal '%'\n",
    "(var) | mapping variable (dictionary arguments)\n",
    "m.n. | m is the minimum total width and n is the number of digits to display after the decimal point (if appl.)"
   ]
  },
  {
   "attachments": {},
   "cell_type": "markdown",
   "metadata": {},
   "source": [
    "### Triple Quotes"
   ]
  },
  {
   "cell_type": "code",
   "execution_count": null,
   "metadata": {},
   "outputs": [],
   "source": [
    "#!/usr/bin/python3\n",
    "\n",
    "para_str = \"\"\"this is a long string that is made up of\n",
    "several lines and non-printable characters such as\n",
    "TAB ( \\t ) and they will show up that way when displayed.\n",
    "NEWLINEs within the string, whether explicitly given like\n",
    "this within the brackets [ \\n ], or just a NEWLINE within\n",
    "the variable assignment will also show up.\n",
    "\"\"\"\n",
    "\n",
    "print (para_str)"
   ]
  },
  {
   "cell_type": "code",
   "execution_count": 1,
   "metadata": {},
   "outputs": [
    {
     "name": "stdout",
     "output_type": "stream",
     "text": [
      "C:\\nowhere\n"
     ]
    }
   ],
   "source": [
    "#!/usr/bin/python3\n",
    "\n",
    "print ('C:\\\\nowhere')"
   ]
  },
  {
   "cell_type": "code",
   "execution_count": 2,
   "metadata": {},
   "outputs": [
    {
     "name": "stdout",
     "output_type": "stream",
     "text": [
      "C:\\\\nowhere\n"
     ]
    }
   ],
   "source": [
    "#!/usr/bin/python3\n",
    "\n",
    "print (r'C:\\\\nowhere')"
   ]
  },
  {
   "attachments": {},
   "cell_type": "markdown",
   "metadata": {},
   "source": [
    "### Unicode String"
   ]
  },
  {
   "attachments": {},
   "cell_type": "markdown",
   "metadata": {},
   "source": [
    "Built-in String Methods"
   ]
  },
  {
   "attachments": {},
   "cell_type": "markdown",
   "metadata": {},
   "source": [
    "S. No. | Methods with Description\n",
    "---|---\n",
    "1 | `capitalize()` Capitalizes first letter of string\n",
    "2 | `center(width, fillchar)` Returns a string padded with fillchar with the original string centered to a total of width columns.\n",
    "3 | `count(str, beg = 0, end = len(string))` Counts how many times str occurs in string or in a substring of string if starting index beg and ending index end are given.\n",
    "4 | `decode(encoding = 'UTF-8',errors = 'strict')` Decodes the string using the codec registered for encoding. encoding defaults to the default string encoding.\n",
    "5 | `encode(encoding = 'UTF-8', errors = 'strict')` Returns encoded string version of string; on error, default is to raise a ValueError unless errors is given with 'ignore' or 'replace'.\n",
    "6 | `endswith(suffix, beg = 0, end = len(string))` Determines if string or a substring of string (if starting index beg and ending index end are given) ends with suffix; returns true if so and false otherwise.\n",
    "7 | `expandtabs(tabsize = 8)` Expands tabs in string to multiple spaces; defaults to 8 spaces per tab if tabsize not provided.\n",
    "8 | `find(str, beg = 0 end = len(string))` Determine if str occurs in string or in a substring of string if starting index beg and ending index end are given returns index if found and -1 otherwise.\n",
    "9 | `index(str, beg = 0, end = len(string))` Same as find(), but raises an exception if str not found.\n",
    "10 | `isalnum()` Returns true if string has at least 1 character and all characters are alphanumeric and false otherwise.\n",
    "11 | `isalpha()` Returns true if string has at least 1 character and all characters are alphabetic and false otherwise.\n",
    "12 | `isdigit()` Returns true if the string contains only digits and false otherwise.\n",
    "13 | `islower()` Returns true if string has at least 1 cased character and all cased characters are in lowercase and false otherwise.\n",
    "14 | `isnumeric()` Returns true if a unicode string contains only numeric characters and false otherwise.\n",
    "15 | `isspace()` Returns true if string contains only whitespace characters and false otherwise.\n",
    "16 | `istitle()` Returns true if string is properly \"titlecased\" and false otherwise.\n",
    "17 | `isupper()` Returns true if string has at least one cased character and all cased characters are in uppercase and false otherwise.\n",
    "18 | `join(seq)` Merges (concatenates) the string representations of elements in sequence seq into a string, with separator string.\n",
    "19 | `len(string)` Returns the length of the string\n",
    "20 | `ljust(width[, fillchar])` Returns a space-padded string with the original string left-justified to a total of width columns.\n",
    "21 | `lower()` Converts all uppercase letters in string to lowercase.\n",
    "22 | `lstrip()` Removes all leading whitespace in string.\n",
    "23 | `maketrans()` Returns a translation table to be used in translate function.\n",
    "24 | `max(str)` Returns the max alphabetical character from the string str.\n",
    "25 | `min(str)` Returns the min alphabetical character from the string str.\n",
    "26 | `replace(old, new [, max])` Replaces all occurrences of old in string with new or at most max occurrences if max given.\n",
    "27 | `rfind(str, beg = 0,end = len(string))` Same as find(), but search backwards in string.\n",
    "28 | `rindex( str, beg = 0, end = len(string))` Same as index(), but search backwards in string.\n",
    "29 | `rjust(width,[, fillchar])` Returns a space-padded string with the original string right-justified to a total of width columns.\n",
    "30 | `rstrip()` Removes all trailing whitespace of string.\n",
    "31 | `split(str = \"\", num = string.count(str))` Splits string according to delimiter str (space if not provided) and returns list of substrings; split into at most num substrings if given.\n",
    "32 | `splitlines(num = string.count('\\n'))` Splits string at all (or num) NEWLINEs and returns a list of each line with NEWLINEs removed.\n",
    "33 | `startswith(str, beg = 0,end = len(string))` Determines if string or a substring of string (if starting index beg and ending index end are given) starts with substring str; returns true if so and false otherwise.\n",
    "34 | `strip([chars])` Performs both lstrip() and rstrip() on string\n",
    "35 | `swapcase()` Inverts case for all letters in string.\n",
    "36 | `title()` Returns \"titlecased\" version of string, that is, all words begin with uppercase and the rest are lowercase.\n",
    "37 | `translate(table, deletechars = \"\")` Translates string according to translation table str(256 chars), removing those in the del string.\n",
    "38 | `upper()` Converts lowercase letters in string to uppercase.\n",
    "39 | `zfill (width)` Returns original string leftpadded with zeros to a total of width characters; intended for numbers, zfill() retains any sign given (less one zero).\n",
    "40 | `isdecimal()` Returns true if a unicode string contains only decimal characters and false otherwise."
   ]
  },
  {
   "attachments": {},
   "cell_type": "markdown",
   "metadata": {},
   "source": [
    "### String `capitalize()` Method"
   ]
  },
  {
   "cell_type": "code",
   "execution_count": null,
   "metadata": {},
   "outputs": [],
   "source": [
    "# Syntax\n",
    "\n",
    "str.capitalize()"
   ]
  },
  {
   "cell_type": "code",
   "execution_count": null,
   "metadata": {},
   "outputs": [],
   "source": [
    "#!/usr/bin/python3\n",
    "\n",
    "str = \"this is string example....wow!!!\"\n",
    "print (\"str.capitalize() : \", str.capitalize())"
   ]
  },
  {
   "attachments": {},
   "cell_type": "markdown",
   "metadata": {},
   "source": [
    "### String `center()` Method"
   ]
  },
  {
   "cell_type": "code",
   "execution_count": null,
   "metadata": {},
   "outputs": [],
   "source": [
    "# Syntax\n",
    "\n",
    "str.center(width[, fillchar])"
   ]
  },
  {
   "cell_type": "code",
   "execution_count": null,
   "metadata": {},
   "outputs": [],
   "source": [
    "#!/usr/bin/python3\n",
    "\n",
    "str = \"this is string example....wow!!!\"\n",
    "print (\"str.center(40, 'a') : \", str.center(40, 'a'))"
   ]
  },
  {
   "attachments": {},
   "cell_type": "markdown",
   "metadata": {},
   "source": [
    "### String `count()` Method"
   ]
  },
  {
   "cell_type": "code",
   "execution_count": null,
   "metadata": {},
   "outputs": [],
   "source": [
    "# Syntax\n",
    "\n",
    "str.count(sub, start= 0,end=len(string))"
   ]
  },
  {
   "cell_type": "code",
   "execution_count": null,
   "metadata": {},
   "outputs": [],
   "source": [
    "#!/usr/bin/python3\n",
    "\n",
    "str=\"this is string example....wow!!!\"\n",
    "\n",
    "sub='i'\n",
    "print (\"str.count('i') : \", str.count(sub))\n",
    "\n",
    "sub='exam'\n",
    "print (\"str.count('exam', 10, 40) : \", str.count(sub,10,40))"
   ]
  },
  {
   "attachments": {},
   "cell_type": "markdown",
   "metadata": {},
   "source": [
    "### String `decode()` Method"
   ]
  },
  {
   "cell_type": "code",
   "execution_count": null,
   "metadata": {},
   "outputs": [],
   "source": [
    "# Syntax\n",
    "\n",
    "str.decode(encoding = 'UTF-8', errors = 'strict')"
   ]
  },
  {
   "cell_type": "code",
   "execution_count": null,
   "metadata": {},
   "outputs": [],
   "source": [
    "#!/usr/bin/python3\n",
    "\n",
    "Str = \"this is string example....wow!!!\";\n",
    "Str = str.encode('base64','strict');\n",
    "\n",
    "print(\"Encoded String: \" + str)\n",
    "print(\"Decoded String: \" + str.decode('base64','strict'))"
   ]
  },
  {
   "attachments": {},
   "cell_type": "markdown",
   "metadata": {},
   "source": [
    "### String `encode()` Method"
   ]
  },
  {
   "cell_type": "code",
   "execution_count": null,
   "metadata": {},
   "outputs": [],
   "source": [
    "# Syntax\n",
    "\n",
    "str.encode(encoding = 'UTF-8', errors = 'strict')"
   ]
  },
  {
   "cell_type": "code",
   "execution_count": null,
   "metadata": {},
   "outputs": [],
   "source": [
    "#!/usr/bin/python3\n",
    "\n",
    "import base64\n",
    "\n",
    "Str = \"this is string example....wow!!!\"\n",
    "Str = base64.b64encode(Str.encode('utf-8', errors = 'strict'))\n",
    "\n",
    "print (\"Encoded String: \" , Str)"
   ]
  },
  {
   "attachments": {},
   "cell_type": "markdown",
   "metadata": {},
   "source": [
    "### String `endswith()` Method"
   ]
  },
  {
   "cell_type": "code",
   "execution_count": null,
   "metadata": {},
   "outputs": [],
   "source": [
    "# Syntax\n",
    "\n",
    "str.endswith(suffix[, start[, end]])"
   ]
  },
  {
   "cell_type": "code",
   "execution_count": null,
   "metadata": {},
   "outputs": [],
   "source": [
    "#!/usr/bin/python3\n",
    "\n",
    "Str='this is string example....wow!!!'\n",
    "\n",
    "suffix='!!'\n",
    "print (Str.endswith(suffix))\n",
    "print (Str.endswith(suffix,20))\n",
    "\n",
    "suffix='exam'\n",
    "print (Str.endswith(suffix))\n",
    "print (Str.endswith(suffix, 0, 19))"
   ]
  },
  {
   "attachments": {},
   "cell_type": "markdown",
   "metadata": {},
   "source": [
    "### String `expandtabs()` Method"
   ]
  },
  {
   "cell_type": "code",
   "execution_count": null,
   "metadata": {},
   "outputs": [],
   "source": [
    "# Syntax\n",
    "\n",
    "str.expandtabs(tabsize=8)"
   ]
  },
  {
   "cell_type": "code",
   "execution_count": null,
   "metadata": {},
   "outputs": [],
   "source": [
    "#!/usr/bin/python3\n",
    "\n",
    "str = \"this is\\tstring example....wow!!!\"\n",
    "print (\"Original string: \" + str)\n",
    "\n",
    "print (\"Defualt exapanded tab: \" + str.expandtabs())\n",
    "\n",
    "print (\"Double exapanded tab: \" + str.expandtabs(16))"
   ]
  },
  {
   "attachments": {},
   "cell_type": "markdown",
   "metadata": {},
   "source": [
    "### String `find()` Method"
   ]
  },
  {
   "cell_type": "code",
   "execution_count": null,
   "metadata": {},
   "outputs": [],
   "source": [
    "# Syntax\n",
    "\n",
    "str.find(str, beg = 0, end = len(string))"
   ]
  },
  {
   "cell_type": "code",
   "execution_count": null,
   "metadata": {},
   "outputs": [],
   "source": [
    "#!/usr/bin/python3\n",
    "str1 = \"this is string example....wow!!!\"\n",
    "str2 = \"exam\";\n",
    "\n",
    "print (str1.find(str2))\n",
    "print (str1.find(str2, 10))\n",
    "print (str1.find(str2, 40))"
   ]
  },
  {
   "attachments": {},
   "cell_type": "markdown",
   "metadata": {},
   "source": [
    "### String `index()` Method"
   ]
  },
  {
   "cell_type": "code",
   "execution_count": null,
   "metadata": {},
   "outputs": [],
   "source": [
    "# Syntax\n",
    "\n",
    "str.index(str, beg = 0 end = len(string))"
   ]
  },
  {
   "cell_type": "code",
   "execution_count": null,
   "metadata": {},
   "outputs": [],
   "source": [
    "#!/usr/bin/python3\n",
    "\n",
    "str1 = \"this is string example....wow!!!\"\n",
    "str2 = \"exam\";\n",
    "\n",
    "print (str1.index(str2))\n",
    "print (str1.index(str2, 10))\n",
    "print (str1.index(str2, 40))"
   ]
  },
  {
   "attachments": {},
   "cell_type": "markdown",
   "metadata": {},
   "source": [
    "### String `isalnum()` Method"
   ]
  },
  {
   "cell_type": "code",
   "execution_count": null,
   "metadata": {},
   "outputs": [],
   "source": [
    "# Syntax\n",
    "\n",
    "str.isa1num()"
   ]
  },
  {
   "cell_type": "code",
   "execution_count": null,
   "metadata": {},
   "outputs": [],
   "source": [
    "#!/usr/bin/python3\n",
    "\n",
    "str = \"this2016\" # No space in this string\n",
    "print (str.isalnum())\n",
    "\n",
    "str = \"this is string example....wow!!!\"\n",
    "print (str.isalnum())"
   ]
  },
  {
   "attachments": {},
   "cell_type": "markdown",
   "metadata": {},
   "source": [
    "### String `isalpha()` Method"
   ]
  },
  {
   "cell_type": "code",
   "execution_count": null,
   "metadata": {},
   "outputs": [],
   "source": [
    "# Syntax\n",
    "\n",
    "str.isalpha()"
   ]
  },
  {
   "cell_type": "code",
   "execution_count": null,
   "metadata": {},
   "outputs": [],
   "source": [
    "#!/usr/bin/python3\n",
    "\n",
    "str = \"this\"; # No space & digit in this string\n",
    "print (str.isalpha())\n",
    "\n",
    "str = \"this is string example....wow!!!\"\n",
    "print (str.isalpha())"
   ]
  },
  {
   "cell_type": "code",
   "execution_count": null,
   "metadata": {},
   "outputs": [],
   "source": []
  },
  {
   "cell_type": "code",
   "execution_count": null,
   "metadata": {},
   "outputs": [],
   "source": []
  },
  {
   "cell_type": "code",
   "execution_count": null,
   "metadata": {},
   "outputs": [],
   "source": []
  },
  {
   "cell_type": "code",
   "execution_count": null,
   "metadata": {},
   "outputs": [],
   "source": []
  },
  {
   "cell_type": "code",
   "execution_count": null,
   "metadata": {},
   "outputs": [],
   "source": []
  },
  {
   "cell_type": "code",
   "execution_count": null,
   "metadata": {},
   "outputs": [],
   "source": []
  },
  {
   "cell_type": "code",
   "execution_count": null,
   "metadata": {},
   "outputs": [],
   "source": []
  },
  {
   "cell_type": "code",
   "execution_count": null,
   "metadata": {},
   "outputs": [],
   "source": []
  },
  {
   "cell_type": "code",
   "execution_count": null,
   "metadata": {},
   "outputs": [],
   "source": []
  },
  {
   "cell_type": "code",
   "execution_count": null,
   "metadata": {},
   "outputs": [],
   "source": []
  },
  {
   "cell_type": "code",
   "execution_count": null,
   "metadata": {},
   "outputs": [],
   "source": []
  },
  {
   "cell_type": "code",
   "execution_count": null,
   "metadata": {},
   "outputs": [],
   "source": []
  },
  {
   "cell_type": "code",
   "execution_count": null,
   "metadata": {},
   "outputs": [],
   "source": []
  },
  {
   "cell_type": "code",
   "execution_count": null,
   "metadata": {},
   "outputs": [],
   "source": []
  },
  {
   "cell_type": "code",
   "execution_count": null,
   "metadata": {},
   "outputs": [],
   "source": []
  },
  {
   "cell_type": "code",
   "execution_count": null,
   "metadata": {},
   "outputs": [],
   "source": [
    "%reload_ext watermark\n",
    "%watermark -a \"Caique Miranda\" -gu \"caiquemiranda\" -iv"
   ]
  },
  {
   "attachments": {},
   "cell_type": "markdown",
   "metadata": {},
   "source": [
    "### End."
   ]
  }
 ],
 "metadata": {
  "kernelspec": {
   "display_name": "Python 3",
   "language": "python",
   "name": "python3"
  },
  "language_info": {
   "codemirror_mode": {
    "name": "ipython",
    "version": 3
   },
   "file_extension": ".py",
   "mimetype": "text/x-python",
   "name": "python",
   "nbconvert_exporter": "python",
   "pygments_lexer": "ipython3",
   "version": "3.10.5"
  },
  "orig_nbformat": 4
 },
 "nbformat": 4,
 "nbformat_minor": 2
}
