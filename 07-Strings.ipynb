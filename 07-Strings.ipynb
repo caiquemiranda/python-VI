{
 "cells": [
  {
   "cell_type": "code",
   "execution_count": null,
   "metadata": {},
   "outputs": [],
   "source": [
    "# Versão da Linguagem Python\n",
    "from platform import python_version\n",
    "print('Versão de Python Neste Jupyter Notebook:', python_version())\n",
    "\n",
    "# usaremos o filtro 'warning' para deixar mais limpo.\n",
    "import warnings\n",
    "warnings.filterwarnings('ignore')"
   ]
  },
  {
   "cell_type": "code",
   "execution_count": null,
   "metadata": {},
   "outputs": [],
   "source": [
    "var1 = 'Hello World!'\n",
    "var2 = \"Python Programming\""
   ]
  },
  {
   "attachments": {},
   "cell_type": "markdown",
   "metadata": {},
   "source": [
    "### Accessing Values in Strings"
   ]
  },
  {
   "cell_type": "code",
   "execution_count": null,
   "metadata": {},
   "outputs": [],
   "source": [
    "#!/usr/bin/python3\n",
    "\n",
    "var1 = 'Hello World!'\n",
    "var2 = \"Python Programming\"\n",
    "\n",
    "print (\"var1[0]: \", var1[0])\n",
    "print (\"var2[1:5]: \", var2[1:5])"
   ]
  },
  {
   "attachments": {},
   "cell_type": "markdown",
   "metadata": {},
   "source": [
    "### Updating Strings"
   ]
  },
  {
   "cell_type": "code",
   "execution_count": null,
   "metadata": {},
   "outputs": [],
   "source": [
    "#!/usr/bin/python3\n",
    "\n",
    "var1 = 'Hello World!'\n",
    "print (\"Updated String :- \", var1[:6] + 'Python')"
   ]
  },
  {
   "attachments": {},
   "cell_type": "markdown",
   "metadata": {},
   "source": [
    "### Escape Characters"
   ]
  },
  {
   "attachments": {},
   "cell_type": "markdown",
   "metadata": {},
   "source": [
    "Backslash notation | Hexadecimal character | Description\n",
    "---|---|---\n",
    "a | 0x07 | Bell or alert\n",
    "b | 0x08 | Backspace\n",
    "\\cx| |Control-x\n",
    "\\C-x| |Control-x\n",
    "\\e | 0x1b | Escape\n",
    "\\f | 0x0c | Formfeed\n",
    "\\M-\\C-x| |Meta-Control-x\n",
    "\\n | 0x0a | Newline\n",
    "\\nnn | | Octal notation, where n is in the range 0.7\n",
    "\\r | 0x0d | Carriage return\n",
    "\\s | 0x20 | Space\n",
    "\\t | 0x09 | Tab\n",
    "\\v | 0x0b | Vertical tab\n",
    "\\x | |Character x\n",
    "\\xnn| |Hexadecimal notation, where n is in the range 0.9, a.f, or A.F"
   ]
  },
  {
   "attachments": {},
   "cell_type": "markdown",
   "metadata": {},
   "source": [
    "### String Special Operators"
   ]
  },
  {
   "attachments": {},
   "cell_type": "markdown",
   "metadata": {},
   "source": [
    "Operator | Description | Example\n",
    "---|---|---\n",
    "\\+ | Concatenation - Adds values on either side of the operator | a + b will give HelloPython\n",
    "\\* | Repetition - Creates new strings, concatenating multiple copies of the same string | a*2 will give - HelloHello\n",
    "[] | Slice - Gives the character from the given index | a[1] will give e\n",
    "[ : ] | Range Slice - Gives the characters from the given range | a[1:4] will give ell\n",
    "in | Membership - Returns true if a character exists in the given string | H in a will give 1\n",
    "not in | Membership - Returns true if a character does not exist in the given string | M not in a will give 1\n",
    "r/R | Raw String - Suppresses actual meaning of Escape characters. The syntax for raw strings is exactly the same as for normal strings with the exception of the raw string operator, the letter \"r,\" which precedes the quotation marks. The \"r\" can be lowercase (r) or uppercase (R) and must be placed immediately preceding the first quote mark. | print r'\\n' prints \\n and print R'\\n'prints \\n % Format - Performs String formatting See next section\n",
    "% | Format - Performs String formatting | See next section"
   ]
  },
  {
   "attachments": {},
   "cell_type": "markdown",
   "metadata": {},
   "source": [
    "### String Formatting Operator"
   ]
  },
  {
   "cell_type": "code",
   "execution_count": null,
   "metadata": {},
   "outputs": [],
   "source": [
    "#!/usr/bin/python3\n",
    "\n",
    "print (\"My name is %s and weight is %d kg!\" % ('Miranda', 31))"
   ]
  },
  {
   "attachments": {},
   "cell_type": "markdown",
   "metadata": {},
   "source": [
    "Format Symbol | Conversion\n",
    "---|---\n",
    "%c | character\n",
    "%s | string conversion via str() prior to formatting\n",
    "%i | signed decimal integer\n",
    "%d | signed decimal integer\n",
    "%u | unsigned decimal integer\n",
    "%o | octal integer\n",
    "%x | hexadecimal integer (lowercase letters)\n",
    "%X | hexadecimal integer (UPPERcase letters)\n",
    "%e | exponential notation (with lowercase 'e')\n",
    "%E | exponential notation (with UPPERcase 'E')\n",
    "%f | floating point real number\n",
    "%g | the shorter of %f and %e\n",
    "%G | the shorter of %f and %E"
   ]
  },
  {
   "attachments": {},
   "cell_type": "markdown",
   "metadata": {},
   "source": [
    "Symbol | Functionality\n",
    "---|---\n",
    "\\* | argument specifies width or precision\n",
    "\\- | left justification\n",
    "\\+ | display the sign\n",
    "\\<sp> | leave a blank space before a positive number\n",
    "\\# | add the octal leading zero ( '0' ) or hexadecimal leading '0x'\n",
    "or | '0X', depending on whether 'x' or 'X' were used.\n",
    "0 | pad from left with zeros (instead of spaces)\n",
    "% | '%%' leaves you with a single literal '%'\n",
    "(var) | mapping variable (dictionary arguments)\n",
    "m.n. | m is the minimum total width and n is the number of digits to display after the decimal point (if appl.)"
   ]
  },
  {
   "cell_type": "code",
   "execution_count": null,
   "metadata": {},
   "outputs": [],
   "source": []
  },
  {
   "cell_type": "code",
   "execution_count": null,
   "metadata": {},
   "outputs": [],
   "source": []
  },
  {
   "cell_type": "code",
   "execution_count": null,
   "metadata": {},
   "outputs": [],
   "source": []
  },
  {
   "cell_type": "code",
   "execution_count": null,
   "metadata": {},
   "outputs": [],
   "source": []
  },
  {
   "cell_type": "code",
   "execution_count": null,
   "metadata": {},
   "outputs": [],
   "source": []
  },
  {
   "cell_type": "code",
   "execution_count": null,
   "metadata": {},
   "outputs": [],
   "source": []
  },
  {
   "cell_type": "code",
   "execution_count": null,
   "metadata": {},
   "outputs": [],
   "source": []
  },
  {
   "cell_type": "code",
   "execution_count": null,
   "metadata": {},
   "outputs": [],
   "source": []
  },
  {
   "cell_type": "code",
   "execution_count": null,
   "metadata": {},
   "outputs": [],
   "source": []
  },
  {
   "cell_type": "code",
   "execution_count": null,
   "metadata": {},
   "outputs": [],
   "source": []
  },
  {
   "cell_type": "code",
   "execution_count": null,
   "metadata": {},
   "outputs": [],
   "source": []
  },
  {
   "cell_type": "code",
   "execution_count": null,
   "metadata": {},
   "outputs": [],
   "source": []
  },
  {
   "cell_type": "code",
   "execution_count": null,
   "metadata": {},
   "outputs": [],
   "source": []
  },
  {
   "cell_type": "code",
   "execution_count": null,
   "metadata": {},
   "outputs": [],
   "source": []
  },
  {
   "cell_type": "code",
   "execution_count": null,
   "metadata": {},
   "outputs": [],
   "source": []
  },
  {
   "cell_type": "code",
   "execution_count": null,
   "metadata": {},
   "outputs": [],
   "source": []
  },
  {
   "cell_type": "code",
   "execution_count": null,
   "metadata": {},
   "outputs": [],
   "source": []
  },
  {
   "cell_type": "code",
   "execution_count": null,
   "metadata": {},
   "outputs": [],
   "source": []
  },
  {
   "cell_type": "code",
   "execution_count": null,
   "metadata": {},
   "outputs": [],
   "source": []
  },
  {
   "cell_type": "code",
   "execution_count": null,
   "metadata": {},
   "outputs": [],
   "source": []
  },
  {
   "cell_type": "code",
   "execution_count": null,
   "metadata": {},
   "outputs": [],
   "source": []
  },
  {
   "cell_type": "code",
   "execution_count": null,
   "metadata": {},
   "outputs": [],
   "source": [
    "%reload_ext watermark\n",
    "%watermark -a \"Caique Miranda\" -gu \"caiquemiranda\" -iv"
   ]
  },
  {
   "attachments": {},
   "cell_type": "markdown",
   "metadata": {},
   "source": [
    "### End."
   ]
  }
 ],
 "metadata": {
  "language_info": {
   "name": "python"
  },
  "orig_nbformat": 4
 },
 "nbformat": 4,
 "nbformat_minor": 2
}
