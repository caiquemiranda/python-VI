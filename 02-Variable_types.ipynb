{
 "cells": [
  {
   "cell_type": "code",
   "execution_count": 1,
   "metadata": {},
   "outputs": [
    {
     "name": "stdout",
     "output_type": "stream",
     "text": [
      "Versão de Python Neste Jupyter Notebook: 3.10.5\n"
     ]
    }
   ],
   "source": [
    "# Versão da Linguagem Python\n",
    "from platform import python_version\n",
    "print('Versão de Python Neste Jupyter Notebook:', python_version())\n",
    "\n",
    "# usaremos o filtro 'warning' para deixar mais limpo.\n",
    "import warnings\n",
    "warnings.filterwarnings('ignore')"
   ]
  },
  {
   "attachments": {},
   "cell_type": "markdown",
   "metadata": {},
   "source": [
    "### Assigning Values to Variables"
   ]
  },
  {
   "cell_type": "code",
   "execution_count": 2,
   "metadata": {},
   "outputs": [
    {
     "name": "stdout",
     "output_type": "stream",
     "text": [
      "100\n",
      "1000.0\n",
      "John\n"
     ]
    }
   ],
   "source": [
    "#!/usr/bin/python3\n",
    "\n",
    "counter = 100 # An integer assignment\n",
    "miles = 1000.0 # A floating point\n",
    "name = \"John\" # A string\n",
    "\n",
    "print (counter)\n",
    "print (miles)\n",
    "print (name)"
   ]
  },
  {
   "attachments": {},
   "cell_type": "markdown",
   "metadata": {},
   "source": [
    "### Multiple Assignment"
   ]
  },
  {
   "cell_type": "code",
   "execution_count": 4,
   "metadata": {},
   "outputs": [],
   "source": [
    "a = b = c = 1"
   ]
  },
  {
   "cell_type": "code",
   "execution_count": 5,
   "metadata": {},
   "outputs": [],
   "source": [
    "a, b, c = 1, 2, 'john'"
   ]
  },
  {
   "attachments": {},
   "cell_type": "markdown",
   "metadata": {},
   "source": [
    "### Standard Data Types"
   ]
  },
  {
   "attachments": {},
   "cell_type": "markdown",
   "metadata": {},
   "source": [
    "- Numbers\n",
    "- String\n",
    "- List\n",
    "- Tuple\n",
    "- Dictionary"
   ]
  },
  {
   "attachments": {},
   "cell_type": "markdown",
   "metadata": {},
   "source": [
    "### Python Numbers"
   ]
  },
  {
   "cell_type": "code",
   "execution_count": 6,
   "metadata": {},
   "outputs": [],
   "source": [
    "var1 = 1\n",
    "var2 = 10"
   ]
  },
  {
   "cell_type": "code",
   "execution_count": 7,
   "metadata": {},
   "outputs": [],
   "source": [
    "del var1, var2"
   ]
  },
  {
   "attachments": {},
   "cell_type": "markdown",
   "metadata": {},
   "source": [
    "- int (signed integers)\n",
    "- float (floating point real values)\n",
    "- complex (complex numbers)"
   ]
  },
  {
   "attachments": {},
   "cell_type": "markdown",
   "metadata": {},
   "source": [
    "int | float | complex\n",
    "---|---|---\n",
    "10 | 0.0 | 3.14j\n",
    "100 | 15.20 | 45.j\n",
    "-786 | -21.9 | 9.322e-36j\n",
    "080 | 32.3+e18 | .876j\n",
    "-0490 | -90. | -.6545+0J\n",
    "-0x260 | -32.54e100 | 3e+26J\n",
    "0x69 | 70.2-E12 | 4.53e-7j"
   ]
  },
  {
   "attachments": {},
   "cell_type": "markdown",
   "metadata": {},
   "source": [
    "### Python Strings"
   ]
  },
  {
   "cell_type": "code",
   "execution_count": 8,
   "metadata": {},
   "outputs": [
    {
     "name": "stdout",
     "output_type": "stream",
     "text": [
      "Hello World!\n",
      "H\n",
      "llo\n",
      "llo World!\n",
      "Hello World!Hello World!\n",
      "Hello World!TEST\n"
     ]
    }
   ],
   "source": [
    "#!/usr/bin/python3\n",
    "\n",
    "str = 'Hello World!'\n",
    "\n",
    "print (str) # Prints complete string\n",
    "print (str[0]) # Prints first character of the string\n",
    "print (str[2:5]) # Prints characters starting from 3rd to 5th\n",
    "print (str[2:]) # Prints string starting from 3rd character\n",
    "print (str * 2) # Prints string two times\n",
    "print (str + \"TEST\") # Prints concatenated string"
   ]
  },
  {
   "attachments": {},
   "cell_type": "markdown",
   "metadata": {},
   "source": [
    "### Python Lists"
   ]
  },
  {
   "cell_type": "code",
   "execution_count": 9,
   "metadata": {},
   "outputs": [
    {
     "name": "stdout",
     "output_type": "stream",
     "text": [
      "['abcd', 786, 2.23, 'john', 70.2]\n",
      "abcd\n",
      "[786, 2.23]\n",
      "[2.23, 'john', 70.2]\n",
      "[123, 'john', 123, 'john']\n",
      "['abcd', 786, 2.23, 'john', 70.2, 123, 'john']\n"
     ]
    }
   ],
   "source": [
    "#!/usr/bin/python3\n",
    "\n",
    "list = [ 'abcd', 786 , 2.23, 'john', 70.2 ]\n",
    "tinylist = [123, 'john']\n",
    "\n",
    "print (list) # Prints complete list\n",
    "print (list[0]) # Prints first element of the list\n",
    "print (list[1:3]) # Prints elements starting from 2nd till 3rd\n",
    "print (list[2:]) # Prints elements starting from 3rd element\n",
    "print (tinylist * 2) # Prints list two times\n",
    "print (list + tinylist) # Prints concatenated lists"
   ]
  },
  {
   "attachments": {},
   "cell_type": "markdown",
   "metadata": {},
   "source": [
    "### Python Tuples"
   ]
  },
  {
   "cell_type": "code",
   "execution_count": 10,
   "metadata": {},
   "outputs": [
    {
     "name": "stdout",
     "output_type": "stream",
     "text": [
      "('abcd', 786, 2.23, 'john', 70.2)\n",
      "abcd\n",
      "(786, 2.23)\n",
      "(2.23, 'john', 70.2)\n",
      "(123, 'john', 123, 'john')\n",
      "('abcd', 786, 2.23, 'john', 70.2, 123, 'john')\n"
     ]
    }
   ],
   "source": [
    "#!/usr/bin/python3\n",
    "\n",
    "tuple = ( 'abcd', 786 , 2.23, 'john', 70.2 )\n",
    "tinytuple = (123, 'john')\n",
    "\n",
    "print (tuple) # Prints complete tuple\n",
    "print (tuple[0]) # Prints first element of the tuple\n",
    "print (tuple[1:3]) # Prints elements starting from 2nd till 3rd\n",
    "print (tuple[2:]) # Prints elements starting from 3rd element\n",
    "print (tinytuple * 2) # Prints tuple two times\n",
    "print (tuple + tinytuple) # Prints concatenated tuple"
   ]
  },
  {
   "cell_type": "code",
   "execution_count": 11,
   "metadata": {},
   "outputs": [
    {
     "ename": "TypeError",
     "evalue": "'tuple' object does not support item assignment",
     "output_type": "error",
     "traceback": [
      "\u001b[1;31m---------------------------------------------------------------------------\u001b[0m",
      "\u001b[1;31mTypeError\u001b[0m                                 Traceback (most recent call last)",
      "\u001b[1;32md:\\GIT-repository\\github-python-VI\\python-VI\\02-Variable_types.ipynb Cell 20\u001b[0m in \u001b[0;36m<cell line: 6>\u001b[1;34m()\u001b[0m\n\u001b[0;32m      <a href='vscode-notebook-cell:/d%3A/GIT-repository/github-python-VI/python-VI/02-Variable_types.ipynb#X12sZmlsZQ%3D%3D?line=2'>3</a>\u001b[0m \u001b[39mtuple\u001b[39m \u001b[39m=\u001b[39m ( \u001b[39m'\u001b[39m\u001b[39mabcd\u001b[39m\u001b[39m'\u001b[39m, \u001b[39m786\u001b[39m , \u001b[39m2.23\u001b[39m, \u001b[39m'\u001b[39m\u001b[39mjohn\u001b[39m\u001b[39m'\u001b[39m, \u001b[39m70.2\u001b[39m )\n\u001b[0;32m      <a href='vscode-notebook-cell:/d%3A/GIT-repository/github-python-VI/python-VI/02-Variable_types.ipynb#X12sZmlsZQ%3D%3D?line=3'>4</a>\u001b[0m \u001b[39mlist\u001b[39m \u001b[39m=\u001b[39m [ \u001b[39m'\u001b[39m\u001b[39mabcd\u001b[39m\u001b[39m'\u001b[39m, \u001b[39m786\u001b[39m , \u001b[39m2.23\u001b[39m, \u001b[39m'\u001b[39m\u001b[39mjohn\u001b[39m\u001b[39m'\u001b[39m, \u001b[39m70.2\u001b[39m ]\n\u001b[1;32m----> <a href='vscode-notebook-cell:/d%3A/GIT-repository/github-python-VI/python-VI/02-Variable_types.ipynb#X12sZmlsZQ%3D%3D?line=5'>6</a>\u001b[0m \u001b[39mtuple\u001b[39m[\u001b[39m2\u001b[39m] \u001b[39m=\u001b[39m \u001b[39m1000\u001b[39m \u001b[39m# Invalid syntax with tuple\u001b[39;00m\n\u001b[0;32m      <a href='vscode-notebook-cell:/d%3A/GIT-repository/github-python-VI/python-VI/02-Variable_types.ipynb#X12sZmlsZQ%3D%3D?line=6'>7</a>\u001b[0m \u001b[39mlist\u001b[39m[\u001b[39m2\u001b[39m] \u001b[39m=\u001b[39m \u001b[39m1000\u001b[39m\n",
      "\u001b[1;31mTypeError\u001b[0m: 'tuple' object does not support item assignment"
     ]
    }
   ],
   "source": [
    "#!/usr/bin/python3\n",
    "\n",
    "tuple = ( 'abcd', 786 , 2.23, 'john', 70.2 )\n",
    "list = [ 'abcd', 786 , 2.23, 'john', 70.2 ]\n",
    "\n",
    "tuple[2] = 1000 # Invalid syntax with tuple\n",
    "list[2] = 1000 # Valid syntax with list"
   ]
  },
  {
   "attachments": {},
   "cell_type": "markdown",
   "metadata": {},
   "source": [
    "### Python Dictionary"
   ]
  },
  {
   "cell_type": "code",
   "execution_count": 12,
   "metadata": {},
   "outputs": [
    {
     "name": "stdout",
     "output_type": "stream",
     "text": [
      "This is one\n",
      "This is two\n",
      "{'name': 'john', 'code': 6734, 'dept': 'sales'}\n",
      "dict_keys(['name', 'code', 'dept'])\n",
      "dict_values(['john', 6734, 'sales'])\n"
     ]
    }
   ],
   "source": [
    "#!/usr/bin/python3\n",
    "\n",
    "dict = {}\n",
    "dict['one'] = \"This is one\"\n",
    "dict[2] = \"This is two\"\n",
    "tinydict = {'name': 'john','code':6734, 'dept': 'sales'}\n",
    "\n",
    "print (dict['one']) # Prints value for 'one' key\n",
    "print (dict[2]) # Prints value for 2 key\n",
    "print (tinydict) # Prints complete dictionary\n",
    "print (tinydict.keys()) # Prints all the keys\n",
    "print (tinydict.values()) # Prints all the values"
   ]
  },
  {
   "attachments": {},
   "cell_type": "markdown",
   "metadata": {},
   "source": [
    "### Data Type Conversion"
   ]
  },
  {
   "attachments": {},
   "cell_type": "markdown",
   "metadata": {},
   "source": [
    "Function | Description\n",
    "---|---\n",
    "int(x [,base]) | Converts x to an integer. The base specifies the base if x is a string.\n",
    "float(x) | Converts x to a floating-point number.\n",
    "complex(real[,imag]) | Creates a complex number\n",
    "str(x) | Converts object x to a string representation.\n",
    "repr(x) | Converts object x to an expression string.\n",
    "eval(str) | Evaluates a string and returns an object.\n",
    "tuple(s) | Converts s to a tuple.\n",
    "list(s) | Converts s to a list.\n",
    "set(s) | Converts s to a set.\n",
    "dict(d) | Creates a dictionary. d must be a sequence of (key,value) tuples.\n",
    "frozenset(s) | Converts s to a frozen set.\n",
    "chr(x) | Converts an integer to a character.\n",
    "unichr(x) | Converts an integer to a Unicode character.\n",
    "ord(x) | Converts a single character to its integer value.\n",
    "hex(x) | Converts an integer to a hexadecimal string.\n",
    "oct(x) | Converts an integer to an octal string."
   ]
  },
  {
   "cell_type": "code",
   "execution_count": 13,
   "metadata": {},
   "outputs": [
    {
     "name": "stdout",
     "output_type": "stream",
     "text": [
      "Author: Caique Miranda\n",
      "\n",
      "Github username: caiquemiranda\n",
      "\n"
     ]
    }
   ],
   "source": [
    "%reload_ext watermark\n",
    "%watermark -a \"Caique Miranda\" -gu \"caiquemiranda\" -iv"
   ]
  },
  {
   "attachments": {},
   "cell_type": "markdown",
   "metadata": {},
   "source": [
    "### End."
   ]
  }
 ],
 "metadata": {
  "kernelspec": {
   "display_name": "Python 3",
   "language": "python",
   "name": "python3"
  },
  "language_info": {
   "codemirror_mode": {
    "name": "ipython",
    "version": 3
   },
   "file_extension": ".py",
   "mimetype": "text/x-python",
   "name": "python",
   "nbconvert_exporter": "python",
   "pygments_lexer": "ipython3",
   "version": "3.10.5"
  },
  "orig_nbformat": 4
 },
 "nbformat": 4,
 "nbformat_minor": 2
}
