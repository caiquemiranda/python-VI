{
 "cells": [
  {
   "cell_type": "code",
   "execution_count": 2,
   "metadata": {},
   "outputs": [
    {
     "name": "stdout",
     "output_type": "stream",
     "text": [
      "Versão de Python Neste Jupyter Notebook: 3.10.5\n"
     ]
    }
   ],
   "source": [
    "# Versão da Linguagem Python\n",
    "from platform import python_version\n",
    "print('Versão de Python Neste Jupyter Notebook:', python_version())\n",
    "\n",
    "# usaremos o filtro 'warning' para deixar mais limpo.\n",
    "import warnings\n",
    "warnings.filterwarnings('ignore')"
   ]
  },
  {
   "attachments": {},
   "cell_type": "markdown",
   "metadata": {},
   "source": [
    "### Types of Operator"
   ]
  },
  {
   "attachments": {},
   "cell_type": "markdown",
   "metadata": {},
   "source": [
    "- Arithmetic Operators\n",
    "- Comparison (Relational) Operators\n",
    "- Assignment Operators\n",
    "- Logical Operators\n",
    "- Bitwise Operators\n",
    "- Membership Operators\n",
    "- Identity Operators"
   ]
  },
  {
   "attachments": {},
   "cell_type": "markdown",
   "metadata": {},
   "source": [
    "### Python Arithmetic Operators"
   ]
  },
  {
   "attachments": {},
   "cell_type": "markdown",
   "metadata": {},
   "source": [
    "|Operator | Description | Example|\n",
    "|---|---|---|\n",
    "|+ Addition | Adds values on either side of the operator.|a+ b = 31|\n",
    "|- Subtraction | Subtracts right hand operand from left hand operand.|a – b = -11|\n",
    "|* Multiplication | Multiplies values on either side of the operator|a * b = 210|\n",
    "|/ Division | Divides left hand operand by right hand operand|b / a = 2.1|\n",
    "|% Modulus | Divides left hand operand by right hand operand and returns remainder|b % a = 1|\n",
    "|** Exponent | Performs exponential (power) calculation on operators|a ** b = 10 to the power 20|\n",
    "|// | Floor Division - The division of operands where the result is the quotient in which the digits after the decimal point are removed. | 9//2 = 4 and 9.0//2.0 = 4.0|"
   ]
  },
  {
   "cell_type": "code",
   "execution_count": 3,
   "metadata": {},
   "outputs": [
    {
     "name": "stdout",
     "output_type": "stream",
     "text": [
      "Line 1 - Value of c is  31\n",
      "Line 2 - Value of c is  11\n",
      "Line 3 - Value of c is  210\n",
      "Line 4 - Value of c is  2.1\n",
      "Line 5 - Value of c is  1\n",
      "Line 6 - Value of c is  8\n",
      "Line 7 - Value of c is  2\n"
     ]
    }
   ],
   "source": [
    "#!/usr/bin/python3\n",
    "\n",
    "a = 21\n",
    "b = 10\n",
    "c = 0\n",
    "c = a + b\n",
    "print(\"Line 1 - Value of c is \", c)\n",
    "\n",
    "c = a - b\n",
    "print(\"Line 2 - Value of c is \", c )\n",
    "\n",
    "c = a * b\n",
    "print(\"Line 3 - Value of c is \", c)\n",
    "\n",
    "c = a / b\n",
    "print(\"Line 4 - Value of c is \", c )\n",
    "\n",
    "c = a % b\n",
    "print(\"Line 5 - Value of c is \", c)\n",
    "\n",
    "a = 2\n",
    "b = 3\n",
    "c = a ** b\n",
    "print(\"Line 6 - Value of c is \", c)\n",
    "\n",
    "a = 10\n",
    "b = 5\n",
    "c = a // b\n",
    "print(\"Line 7 - Value of c is \", c)"
   ]
  },
  {
   "attachments": {},
   "cell_type": "markdown",
   "metadata": {},
   "source": [
    "### Python Comparison Operators"
   ]
  },
  {
   "attachments": {},
   "cell_type": "markdown",
   "metadata": {},
   "source": [
    "Operator | Description | Example\n",
    "---|---|---\n",
    "== | If the values of two operands are equal, then the condition becomes true. | (a == b) is not  true.\n",
    "!= | If values of two operands are not equal, then condition becomes true. | (a!= b) is true.\n",
    "\\> | If the value of left operand is greater than the value of right operand, then condition becomes true. | (a > b) is not true.\n",
    "< | If the value of left operand is less than the value of right operand, then condition becomes true. | (a < b) is true.\n",
    "\\>= | If the value of left operand is greater than or equal to the value of right operand, then condition becomes true. | (a >= b) is not true.\n",
    "<= | If the value of left operand is less than or equal to the value of right operand, then condition becomes true. | (a <= b) is true."
   ]
  },
  {
   "cell_type": "code",
   "execution_count": 4,
   "metadata": {},
   "outputs": [
    {
     "name": "stdout",
     "output_type": "stream",
     "text": [
      "Line 1 - a is not equal to b\n",
      "Line 2 - a is not equal to b\n",
      "Line 3 - a is not less than b\n",
      "Line 4 - a is greater than b\n",
      "Line 5 - a is either less than or equal to b\n",
      "Line 6 - b is either greater than or equal to b\n"
     ]
    }
   ],
   "source": [
    "#!/usr/bin/python3\n",
    "\n",
    "a = 21\n",
    "b = 10\n",
    "\n",
    "if ( a == b ):\n",
    "    print (\"Line 1 - a is equal to b\")\n",
    "else:\n",
    "    print (\"Line 1 - a is not equal to b\")\n",
    "if ( a != b ):\n",
    "    print (\"Line 2 - a is not equal to b\")\n",
    "else:\n",
    "    print (\"Line 2 - a is equal to b\")\n",
    "if ( a < b ):\n",
    "    print (\"Line 3 - a is less than b\" )\n",
    "else:\n",
    "    print (\"Line 3 - a is not less than b\")\n",
    "if ( a > b ):\n",
    "    print (\"Line 4 - a is greater than b\")\n",
    "else:\n",
    "    print (\"Line 4 - a is not greater than b\")\n",
    "\n",
    "a, b = b, a #values of a and b swapped. a becomes 10, b becomes 21\n",
    "\n",
    "if ( a <= b ):\n",
    "    print (\"Line 5 - a is either less than or equal to b\")\n",
    "else:\n",
    "    print (\"Line 5 - a is neither less than nor equal to b\")\n",
    "if ( b >= a ):\n",
    "    print (\"Line 6 - b is either greater than or equal to b\")\n",
    "else:\n",
    "    print (\"Line 6 - b is neither greater than nor equal to b\")    "
   ]
  },
  {
   "attachments": {},
   "cell_type": "markdown",
   "metadata": {},
   "source": [
    "Operator | Description | Example\n",
    "---|---|---\n",
    "= | Assigns values from right side operands to left side operand | c = a + b assigns value of a + b into c\n",
    "+= Add AND | It adds right operand to the left operand and assign the result to left operand | c += a is equivalent to c = c + a\n",
    "-= Subtract AND | It subtracts right operand from the left operand and assign the result to left operand | c -= a is equivalent to c = c - a\n",
    "*= Multiply AND | It multiplies right operand with the left operand and assign the result to left operand | c *= a is equivalent to c = c * a\n",
    "/= Divide AND | It divides left operand with the right operand and assign the result to left operand | c /= a is equivalent to c = c / ac /= a is equivalent to c = c / a\n",
    "%= Modulus AND | It takes modulus using two operands and assign the result to left operand | c %= a is equivalent to c = c % a\n",
    "**= Exponent AND | Performs exponential (power) calculation on operators and assign value to the left operand | c **= a is equivalent to c = c ** a\n",
    "//= Floor Division | It performs floor division on operators and assign value to the left operand | c //= a is equivalent to c = c // a"
   ]
  },
  {
   "cell_type": "code",
   "execution_count": 5,
   "metadata": {},
   "outputs": [
    {
     "name": "stdout",
     "output_type": "stream",
     "text": [
      "Line 1 - Value of c is  31\n",
      "Line 2 - Value of c is  52\n",
      "Line 3 - Value of c is  1092\n",
      "Line 4 - Value of c is  52.0\n",
      "Line 5 - Value of c is  2\n",
      "Line 6 - Value of c is  2097152\n",
      "Line 7 - Value of c is  99864\n"
     ]
    }
   ],
   "source": [
    "#!/usr/bin/python3\n",
    "a = 21\n",
    "b = 10\n",
    "c = 0\n",
    "\n",
    "c = a + b\n",
    "print (\"Line 1 - Value of c is \", c)\n",
    "\n",
    "c += a\n",
    "print (\"Line 2 - Value of c is \", c )\n",
    "\n",
    "c *= a\n",
    "print (\"Line 3 - Value of c is \", c )\n",
    "\n",
    "c /= a\n",
    "print (\"Line 4 - Value of c is \", c )\n",
    "\n",
    "c = 2\n",
    "c %= a\n",
    "print (\"Line 5 - Value of c is \", c)\n",
    "\n",
    "c **= a\n",
    "print (\"Line 6 - Value of c is \", c)\n",
    "\n",
    "c //= a\n",
    "print (\"Line 7 - Value of c is \", c)"
   ]
  },
  {
   "attachments": {},
   "cell_type": "markdown",
   "metadata": {},
   "source": [
    "### Python Bitwise Operators"
   ]
  },
  {
   "attachments": {},
   "cell_type": "markdown",
   "metadata": {},
   "source": [
    "Operator | Description | Example\n",
    "---|---|---\n",
    "& Binary AND | Operator copies a bit to the result, if it exists in both operands | (a & b) (means 0000 1100)\n",
    "\\| Binary OR | It copies a bit, if it exists in either operand. | (a \\| b) = 61 (means 0011 1101)\n",
    "^ Binary XOR | It copies the bit, if it is set in one operand but not both. | (a ^ b) = 49 (means 0011 0001)\n",
    "~ Binary Ones Complement | It is unary and has the effect of 'flipping' bits. | (~a ) = -61 (means 1100 0011 in 2's complement form due to a signed binary number.)\n",
    "<< Binary Left Shift | The left operand’s value is moved left by the number of bits specified by the right operand. | a << = 240 (means 1111 0000)\n",
    "\\>> Binary Right Shift | The left operand’s value is moved right by the number of bits specified by the right operand.| a >> = 15 (means 0000 1111)"
   ]
  },
  {
   "cell_type": "code",
   "execution_count": 6,
   "metadata": {},
   "outputs": [
    {
     "name": "stdout",
     "output_type": "stream",
     "text": [
      "a= 60 : 0b111100 b= 13 : 0b1101\n",
      "result of AND is  12 : 0b1100\n",
      "result of OR is  61 : 0b111101\n",
      "result of EXOR is  49 : 0b110001\n",
      "result of COMPLEMENT is  -61 : -0b111101\n",
      "result of LEFT SHIFT is  240 : 0b11110000\n",
      "result of RIGHT SHIFT is  15 : 0b1111\n"
     ]
    }
   ],
   "source": [
    "#!/usr/bin/python3\n",
    "\n",
    "a = 60 # 60 = 0011 1100\n",
    "b = 13 # 13 = 0000 1101\n",
    "print ('a=',a,':',bin(a),'b=',b,':',bin(b))\n",
    "\n",
    "c = 0\n",
    "c = a & b; # 12 = 0000 1100\n",
    "print (\"result of AND is \", c,':',bin(c))\n",
    "\n",
    "c = a | b; # 61 = 0011 1101\n",
    "print (\"result of OR is \", c,':',bin(c))\n",
    "\n",
    "c = a ^ b; # 49 = 0011 0001\n",
    "print (\"result of EXOR is \", c,':',bin(c))\n",
    "\n",
    "c = ~a; # -61 = 1100 0011\n",
    "print (\"result of COMPLEMENT is \", c,':',bin(c))\n",
    "\n",
    "c = a << 2; # 240 = 1111 0000\n",
    "print (\"result of LEFT SHIFT is \", c,':',bin(c))\n",
    "\n",
    "c = a >> 2; # 15 = 0000 1111\n",
    "print (\"result of RIGHT SHIFT is \", c,':',bin(c))"
   ]
  },
  {
   "attachments": {},
   "cell_type": "markdown",
   "metadata": {},
   "source": [
    "### Python Logical Operators"
   ]
  },
  {
   "attachments": {},
   "cell_type": "markdown",
   "metadata": {},
   "source": [
    "Operator | Description | Example\n",
    "---|---|---\n",
    "and Logical AND | If both the operands are true then condition becomes true. | (a and b) is False.\n",
    "or Logical OR | If any of the two operands are non-zero then condition becomes true. | (a or b) is True.\n",
    "not Logical NOT | Used to reverse the logical state of its operand. | Not(a and b) is True."
   ]
  },
  {
   "attachments": {},
   "cell_type": "markdown",
   "metadata": {},
   "source": [
    "### Python Membership Operators"
   ]
  },
  {
   "attachments": {},
   "cell_type": "markdown",
   "metadata": {},
   "source": [
    "Operator | Description | Example\n",
    "---|---|---\n",
    "in | Evaluates to true, if it finds a variable in the specified sequence and false otherwise. | x in y, here in results ina 1 if x is a member of sequence y. \n",
    "not in | Evaluates to true, if it does not find a variable in the specified sequence and false otherwise. | x not in y, here not in results in a 1 if x is not a member of sequence y."
   ]
  },
  {
   "cell_type": "code",
   "execution_count": 7,
   "metadata": {},
   "outputs": [
    {
     "name": "stdout",
     "output_type": "stream",
     "text": [
      "Line 1 - a is not available in the given list\n",
      "Line 2 - b is not available in the given list\n",
      "Line 3 - a is available in the given list\n"
     ]
    }
   ],
   "source": [
    "#!/usr/bin/python3\n",
    "a = 10\n",
    "b = 20\n",
    "\n",
    "list = [1, 2, 3, 4, 5 ]\n",
    "\n",
    "if ( a in list ):\n",
    "    print (\"Line 1 - a is available in the given list\")\n",
    "else:\n",
    "    print (\"Line 1 - a is not available in the given list\")\n",
    "if ( b not in list ):\n",
    "    print (\"Line 2 - b is not available in the given list\")\n",
    "else:\n",
    "    print (\"Line 2 - b is available in the given list\")\n",
    "\n",
    "c = b / a\n",
    "if ( c in list ):\n",
    "    print (\"Line 3 - a is available in the given list\")\n",
    "else:\n",
    "    print (\"Line 3 - a is not available in the given list\")"
   ]
  },
  {
   "attachments": {},
   "cell_type": "markdown",
   "metadata": {},
   "source": [
    "### Python Identity Operators"
   ]
  },
  {
   "attachments": {},
   "cell_type": "markdown",
   "metadata": {},
   "source": [
    "Operator | Description | Example\n",
    "---|---|---\n",
    "is | Evaluates to true if the variables on either side of the operator point to the same object and false otherwise. | x is y, here is results in 1 if id(x) equals id(y).\n",
    "is not | Evaluates to false if the variables on either side of the operator point to the same object and true otherwise. | x is not y, here is not results in 1 if id(x) is not equal to id(y)."
   ]
  },
  {
   "cell_type": "code",
   "execution_count": 8,
   "metadata": {},
   "outputs": [
    {
     "name": "stdout",
     "output_type": "stream",
     "text": [
      "Line 1 a= 20 : 2310086329168 b= 20 : 2310086329168\n",
      "Line 2 - a and b have same identity\n",
      "Line 3 - a and b have same identity\n",
      "Line 4 a =  20 : 2310086329168 b =  30 : 2310086329488\n",
      "Line 5 - a and b do not have same identity\n"
     ]
    }
   ],
   "source": [
    "#!/usr/bin/python3\n",
    "a = 20\n",
    "b = 20\n",
    "\n",
    "print ('Line 1','a=',a,':',id(a), 'b=',b,':',id(b))\n",
    "\n",
    "if ( a is b ):\n",
    "    print (\"Line 2 - a and b have same identity\")\n",
    "else:\n",
    "    print (\"Line 2 - a and b do not have same identity\")\n",
    "\n",
    "if ( id(a) == id(b) ):\n",
    "    print (\"Line 3 - a and b have same identity\")\n",
    "else:\n",
    "    print (\"Line 3 - a and b do not have same identity\")\n",
    "\n",
    "b = 30\n",
    "print ('Line 4', 'a = ', a, ':', id(a), \n",
    "       'b = ', b, ':', id(b))\n",
    "\n",
    "if ( a is not b ):\n",
    "    print (\"Line 5 - a and b do not have same identity\")\n",
    "else:\n",
    "    print (\"Line 5 - a and b have same identity\")"
   ]
  },
  {
   "attachments": {},
   "cell_type": "markdown",
   "metadata": {},
   "source": [
    "### Python Operators Precedence"
   ]
  },
  {
   "attachments": {},
   "cell_type": "markdown",
   "metadata": {},
   "source": [
    "Operator | Description\n",
    "---|---\n",
    "** | Exponentiation (raise to the power)\n",
    "~ + - | Ccomplement, unary plus and minus (method names for the last two are +@ and -@)\n",
    "\\* / % // | Multiply, divide, modulo and floor division\n",
    "\\+ - | Addition and subtraction\n",
    "\\>> << | Right and left bitwise shift & Bitwise 'AND'\n",
    "\\^ \\|  | Bitwise exclusive 'OR' and regular 'OR'\n",
    "<= < > >= | Comparison operators\n",
    "<> == != | Equality operators\n",
    "= %= /= //= -= += *=**= | Assignment operators\n",
    "is is not | Identity operators\n",
    "in not in | Membership operators\n",
    "not or and | Logical operators"
   ]
  },
  {
   "cell_type": "code",
   "execution_count": 9,
   "metadata": {},
   "outputs": [
    {
     "name": "stdout",
     "output_type": "stream",
     "text": [
      "a:20 b:10 c:15 d:5\n",
      "Value of (a + b) * c / d is  90.0\n",
      "Value of ((a + b) * c) / d is  90.0\n",
      "Value of (a + b) * (c / d) is  90.0\n",
      "Value of a + (b * c) / d is  50.0\n"
     ]
    }
   ],
   "source": [
    "#!/usr/bin/python3\n",
    "a = 20\n",
    "b = 10\n",
    "c = 15\n",
    "d = 5\n",
    "print (\"a:%d b:%d c:%d d:%d\" % (a, b, c, d))\n",
    "\n",
    "e = (a + b) * c / d #( 30 * 15 ) / 5\n",
    "print (\"Value of (a + b) * c / d is \", e)\n",
    "\n",
    "e = ((a + b) * c) / d # (30 * 15 ) / 5\n",
    "print (\"Value of ((a + b) * c) / d is \", e)\n",
    "\n",
    "e = (a + b) * (c / d) # (30) * (15/5)\n",
    "print (\"Value of (a + b) * (c / d) is \", e)\n",
    "\n",
    "e = a + (b * c) / d # 20 + (150/5)\n",
    "print (\"Value of a + (b * c) / d is \", e)"
   ]
  },
  {
   "cell_type": "code",
   "execution_count": 10,
   "metadata": {},
   "outputs": [
    {
     "name": "stdout",
     "output_type": "stream",
     "text": [
      "Author: Caique Miranda\n",
      "\n",
      "Github username: caiquemiranda\n",
      "\n"
     ]
    }
   ],
   "source": [
    "%reload_ext watermark\n",
    "%watermark -a \"Caique Miranda\" -gu \"caiquemiranda\" -iv"
   ]
  },
  {
   "attachments": {},
   "cell_type": "markdown",
   "metadata": {},
   "source": [
    "### End."
   ]
  }
 ],
 "metadata": {
  "kernelspec": {
   "display_name": "Python 3",
   "language": "python",
   "name": "python3"
  },
  "language_info": {
   "codemirror_mode": {
    "name": "ipython",
    "version": 3
   },
   "file_extension": ".py",
   "mimetype": "text/x-python",
   "name": "python",
   "nbconvert_exporter": "python",
   "pygments_lexer": "ipython3",
   "version": "3.10.5"
  },
  "orig_nbformat": 4
 },
 "nbformat": 4,
 "nbformat_minor": 2
}
