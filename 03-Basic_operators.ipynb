{
 "cells": [
  {
   "cell_type": "code",
   "execution_count": null,
   "metadata": {},
   "outputs": [],
   "source": [
    "# Versão da Linguagem Python\n",
    "from platform import python_version\n",
    "print('Versão de Python Neste Jupyter Notebook:', python_version())\n",
    "\n",
    "# usaremos o filtro 'warning' para deixar mais limpo.\n",
    "import warnings\n",
    "warnings.filterwarnings('ignore')"
   ]
  },
  {
   "attachments": {},
   "cell_type": "markdown",
   "metadata": {},
   "source": [
    "### Types of Operator"
   ]
  },
  {
   "attachments": {},
   "cell_type": "markdown",
   "metadata": {},
   "source": [
    "- Arithmetic Operators\n",
    "- Comparison (Relational) Operators\n",
    "- Assignment Operators\n",
    "- Logical Operators\n",
    "- Bitwise Operators\n",
    "- Membership Operators\n",
    "- Identity Operators"
   ]
  },
  {
   "attachments": {},
   "cell_type": "markdown",
   "metadata": {},
   "source": [
    "### Python Arithmetic Operators"
   ]
  },
  {
   "attachments": {},
   "cell_type": "markdown",
   "metadata": {},
   "source": [
    "|Operator | Description | Example|\n",
    "|---|---|---|\n",
    "|+ Addition | Adds values on either side of the operator.|a+ b = 31|\n",
    "|- Subtraction | Subtracts right hand operand from left hand operand.|a – b = -11|\n",
    "|* Multiplication | Multiplies values on either side of the operator|a * b = 210|\n",
    "|/ Division | Divides left hand operand by right hand operand|b / a = 2.1|\n",
    "|% Modulus | Divides left hand operand by right hand operand and returns remainder|b % a = 1|\n",
    "|** Exponent | Performs exponential (power) calculation on operators|a ** b = 10 to the power 20|\n",
    "|// | Floor Division - The division of operands where the result is the quotient in which the digits after the decimal point are removed. | 9//2 = 4 and 9.0//2.0 = 4.0|"
   ]
  },
  {
   "cell_type": "code",
   "execution_count": null,
   "metadata": {},
   "outputs": [],
   "source": [
    "#!/usr/bin/python3\n",
    "\n",
    "a = 21\n",
    "b = 10\n",
    "c = 0\n",
    "c = a + b\n",
    "print(\"Line 1 - Value of c is \", c)\n",
    "\n",
    "c = a - b\n",
    "print(\"Line 2 - Value of c is \", c )\n",
    "\n",
    "c = a * b\n",
    "print(\"Line 3 - Value of c is \", c)\n",
    "\n",
    "c = a / b\n",
    "print(\"Line 4 - Value of c is \", c )\n",
    "\n",
    "c = a % b\n",
    "print(\"Line 5 - Value of c is \", c)\n",
    "\n",
    "a = 2\n",
    "b = 3\n",
    "c = a ** b\n",
    "print(\"Line 6 - Value of c is \", c)\n",
    "\n",
    "a = 10\n",
    "b = 5\n",
    "c = a // b\n",
    "print(\"Line 7 - Value of c is \", c)"
   ]
  },
  {
   "attachments": {},
   "cell_type": "markdown",
   "metadata": {},
   "source": [
    "### Python Comparison Operators"
   ]
  },
  {
   "attachments": {},
   "cell_type": "markdown",
   "metadata": {},
   "source": [
    "Operator | Description | Example\n",
    "---|---|---\n",
    "== | If the values of two operands are equal, then the condition becomes true. | (a == b) is not  true.\n",
    "!= | If values of two operands are not equal, then condition becomes true. | (a!= b) is true.\n",
    "\\> | If the value of left operand is greater than the value of right operand, then condition becomes true. | (a > b) is not true.\n",
    "< | If the value of left operand is less than the value of right operand, then condition becomes true. | (a < b) is true.\n",
    "\\>= | If the value of left operand is greater than or equal to the value of right operand, then condition becomes true. | (a >= b) is not true.\n",
    "<= | If the value of left operand is less than or equal to the value of right operand, then condition becomes true. | (a <= b) is true."
   ]
  },
  {
   "cell_type": "code",
   "execution_count": null,
   "metadata": {},
   "outputs": [],
   "source": [
    "#!/usr/bin/python3\n",
    "\n",
    "a = 21\n",
    "b = 10\n",
    "\n",
    "if ( a == b ):\n",
    "    print (\"Line 1 - a is equal to b\")\n",
    "else:\n",
    "    print (\"Line 1 - a is not equal to b\")\n",
    "if ( a != b ):\n",
    "    print (\"Line 2 - a is not equal to b\")\n",
    "else:\n",
    "    print (\"Line 2 - a is equal to b\")\n",
    "if ( a < b ):\n",
    "    print (\"Line 3 - a is less than b\" )\n",
    "else:\n",
    "    print (\"Line 3 - a is not less than b\")\n",
    "if ( a > b ):\n",
    "    print (\"Line 4 - a is greater than b\")\n",
    "else:\n",
    "    print (\"Line 4 - a is not greater than b\")\n",
    "\n",
    "a, b = b, a #values of a and b swapped. a becomes 10, b becomes 21\n",
    "\n",
    "if ( a <= b ):\n",
    "    print (\"Line 5 - a is either less than or equal to b\")\n",
    "else:\n",
    "    print (\"Line 5 - a is neither less than nor equal to b\")\n",
    "if ( b >= a ):\n",
    "    print (\"Line 6 - b is either greater than or equal to b\")\n",
    "else:\n",
    "    print (\"Line 6 - b is neither greater than nor equal to b\")    "
   ]
  },
  {
   "attachments": {},
   "cell_type": "markdown",
   "metadata": {},
   "source": [
    "Operator | Description | Example\n",
    "---|---|---\n",
    "= | Assigns values from right side operands to left side operand | c = a + b assigns value of a + b into c\n",
    "+= Add AND | It adds right operand to the left operand and assign the result to left operand | c += a is equivalent to c = c + a\n",
    "-= Subtract AND | It subtracts right operand from the left operand and assign the result to left operand | c -= a is equivalent to c = c - a\n",
    "*= Multiply AND | It multiplies right operand with the left operand and assign the result to left operand | c *= a is equivalent to c = c * a\n",
    "/= Divide AND | It divides left operand with the right operand and assign the result to left operand | c /= a is equivalent to c = c / ac /= a is equivalent to c = c / a\n",
    "%= Modulus AND | It takes modulus using two operands and assign the result to left operand | c %= a is equivalent to c = c % a\n",
    "**= Exponent AND | Performs exponential (power) calculation on operators and assign value to the left operand | c **= a is equivalent to c = c ** a\n",
    "//= Floor Division | It performs floor division on operators and assign value to the left operand | c //= a is equivalent to c = c // a"
   ]
  },
  {
   "cell_type": "code",
   "execution_count": null,
   "metadata": {},
   "outputs": [],
   "source": [
    "#!/usr/bin/python3\n",
    "a = 21\n",
    "b = 10\n",
    "c = 0\n",
    "\n",
    "c = a + b\n",
    "print (\"Line 1 - Value of c is \", c)\n",
    "\n",
    "c += a\n",
    "print (\"Line 2 - Value of c is \", c )\n",
    "\n",
    "c *= a\n",
    "print (\"Line 3 - Value of c is \", c )\n",
    "\n",
    "c /= a\n",
    "print (\"Line 4 - Value of c is \", c )\n",
    "\n",
    "c = 2\n",
    "c %= a\n",
    "print (\"Line 5 - Value of c is \", c)\n",
    "\n",
    "c **= a\n",
    "print (\"Line 6 - Value of c is \", c)\n",
    "\n",
    "c //= a\n",
    "print (\"Line 7 - Value of c is \", c)"
   ]
  },
  {
   "attachments": {},
   "cell_type": "markdown",
   "metadata": {},
   "source": [
    "### Python Bitwise Operators"
   ]
  },
  {
   "attachments": {},
   "cell_type": "markdown",
   "metadata": {},
   "source": [
    "Operator | Description | Example\n",
    "---|---|---\n",
    "& Binary AND | Operator copies a bit to the result, if it exists in both operands | (a & b) (means 0000 1100)\n",
    "\\| Binary OR | It copies a bit, if it exists in either operand. | (a \\| b) = 61 (means 0011 1101)\n",
    "^ Binary XOR | It copies the bit, if it is set in one operand but not both. | (a ^ b) = 49 (means 0011 0001)\n",
    "~ Binary Ones Complement | It is unary and has the effect of 'flipping' bits. | (~a ) = -61 (means 1100 0011 in 2's complement form due to a signed binary number.)\n",
    "<< Binary Left Shift | The left operand’s value is moved left by the number of bits specified by the right operand. | a << = 240 (means 1111 0000)\n",
    "\\>> Binary Right Shift | The left operand’s value is moved right by the number of bits specified by the right operand.| a >> = 15 (means 0000 1111)"
   ]
  },
  {
   "cell_type": "code",
   "execution_count": null,
   "metadata": {},
   "outputs": [],
   "source": [
    "#!/usr/bin/python3\n",
    "\n",
    "a = 60 # 60 = 0011 1100\n",
    "b = 13 # 13 = 0000 1101\n",
    "print ('a=',a,':',bin(a),'b=',b,':',bin(b))\n",
    "\n",
    "c = 0\n",
    "c = a & b; # 12 = 0000 1100\n",
    "print (\"result of AND is \", c,':',bin(c))\n",
    "\n",
    "c = a | b; # 61 = 0011 1101\n",
    "print (\"result of OR is \", c,':',bin(c))\n",
    "\n",
    "c = a ^ b; # 49 = 0011 0001\n",
    "print (\"result of EXOR is \", c,':',bin(c))\n",
    "\n",
    "c = ~a; # -61 = 1100 0011\n",
    "print (\"result of COMPLEMENT is \", c,':',bin(c))\n",
    "\n",
    "c = a << 2; # 240 = 1111 0000\n",
    "print (\"result of LEFT SHIFT is \", c,':',bin(c))\n",
    "\n",
    "c = a >> 2; # 15 = 0000 1111\n",
    "print (\"result of RIGHT SHIFT is \", c,':',bin(c))"
   ]
  },
  {
   "cell_type": "code",
   "execution_count": null,
   "metadata": {},
   "outputs": [],
   "source": []
  },
  {
   "cell_type": "code",
   "execution_count": null,
   "metadata": {},
   "outputs": [],
   "source": []
  },
  {
   "cell_type": "code",
   "execution_count": null,
   "metadata": {},
   "outputs": [],
   "source": []
  },
  {
   "cell_type": "code",
   "execution_count": null,
   "metadata": {},
   "outputs": [],
   "source": []
  },
  {
   "cell_type": "code",
   "execution_count": null,
   "metadata": {},
   "outputs": [],
   "source": []
  },
  {
   "cell_type": "code",
   "execution_count": null,
   "metadata": {},
   "outputs": [],
   "source": []
  },
  {
   "cell_type": "code",
   "execution_count": null,
   "metadata": {},
   "outputs": [],
   "source": []
  },
  {
   "cell_type": "code",
   "execution_count": null,
   "metadata": {},
   "outputs": [],
   "source": []
  },
  {
   "cell_type": "code",
   "execution_count": null,
   "metadata": {},
   "outputs": [],
   "source": []
  },
  {
   "cell_type": "code",
   "execution_count": null,
   "metadata": {},
   "outputs": [],
   "source": []
  },
  {
   "cell_type": "code",
   "execution_count": null,
   "metadata": {},
   "outputs": [],
   "source": []
  },
  {
   "cell_type": "code",
   "execution_count": null,
   "metadata": {},
   "outputs": [],
   "source": []
  },
  {
   "cell_type": "code",
   "execution_count": null,
   "metadata": {},
   "outputs": [],
   "source": []
  },
  {
   "cell_type": "code",
   "execution_count": null,
   "metadata": {},
   "outputs": [],
   "source": []
  },
  {
   "cell_type": "code",
   "execution_count": null,
   "metadata": {},
   "outputs": [],
   "source": []
  },
  {
   "cell_type": "code",
   "execution_count": null,
   "metadata": {},
   "outputs": [],
   "source": [
    "%reload_ext watermark\n",
    "%watermark -a \"Caique Miranda\" -gu \"caiquemiranda\" -iv"
   ]
  },
  {
   "attachments": {},
   "cell_type": "markdown",
   "metadata": {},
   "source": [
    "### End."
   ]
  }
 ],
 "metadata": {
  "language_info": {
   "name": "python"
  },
  "orig_nbformat": 4
 },
 "nbformat": 4,
 "nbformat_minor": 2
}
