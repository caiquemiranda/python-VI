{
 "cells": [
  {
   "cell_type": "code",
   "execution_count": null,
   "metadata": {},
   "outputs": [],
   "source": [
    "# Versão da Linguagem Python\n",
    "from platform import python_version\n",
    "print('Versão de Python Neste Jupyter Notebook:', python_version())\n",
    "\n",
    "# usaremos o filtro 'warning' para deixar mais limpo.\n",
    "import warnings\n",
    "warnings.filterwarnings('ignore')"
   ]
  },
  {
   "attachments": {},
   "cell_type": "markdown",
   "metadata": {},
   "source": [
    "### Printing to the Screen"
   ]
  },
  {
   "cell_type": "code",
   "execution_count": null,
   "metadata": {},
   "outputs": [],
   "source": [
    "#!/usr/bin/python3\n",
    "\n",
    "print (\"Python is really a great language,\", \"isn't it?\")"
   ]
  },
  {
   "attachments": {},
   "cell_type": "markdown",
   "metadata": {},
   "source": [
    "### The `input` Function"
   ]
  },
  {
   "cell_type": "code",
   "execution_count": null,
   "metadata": {},
   "outputs": [],
   "source": [
    "#!/usr/bin/python3\n",
    "\n",
    "x = input(\"something: \")"
   ]
  },
  {
   "cell_type": "code",
   "execution_count": null,
   "metadata": {},
   "outputs": [],
   "source": [
    "x"
   ]
  },
  {
   "cell_type": "code",
   "execution_count": null,
   "metadata": {},
   "outputs": [],
   "source": [
    "x = input(\"something: \")"
   ]
  },
  {
   "cell_type": "code",
   "execution_count": null,
   "metadata": {},
   "outputs": [],
   "source": [
    "x"
   ]
  },
  {
   "attachments": {},
   "cell_type": "markdown",
   "metadata": {},
   "source": [
    "###  The `open` Function"
   ]
  },
  {
   "cell_type": "code",
   "execution_count": null,
   "metadata": {},
   "outputs": [],
   "source": [
    "# Syntax\n",
    "\n",
    "file object = open(file_name [, access_mode][, buffering])"
   ]
  },
  {
   "attachments": {},
   "cell_type": "markdown",
   "metadata": {},
   "source": [
    "Modes | Description\n",
    "---|---\n",
    "r | Opens a file for reading only. The file pointer is placed at the beginning of the file. This is the default mode.\n",
    "rb | Opens a file for reading only in binary format. The file pointer is placed at the beginning of the file. This is the default mode.\n",
    "r+ | Opens a file for both reading and writing. The file pointer placed at the beginning of the file.\n",
    "rb+ | Opens a file for both reading and writing in binary format. The file pointer placed at the beginning of the file.\n",
    "w | Opens a file for writing only. Overwrites the file if the file exists. If the file does not exist, creates a new file for writing.\n",
    "wb | Opens a file for writing only in binary format. Overwrites the file if the file exists. If the file does not exist, creates a new file for writing.\n",
    "w+ | Opens a file for both writing and reading. Overwrites the existing file if the file exists. If the file does not exist, creates a new file for reading and writing.\n",
    "wb+ | Opens a file for both writing and reading in binary format. Overwrites the existing file if the file exists. If the file does not exist, creates a new file for reading and writing.\n",
    "a | Opens a file for appending. The file pointer is at the end of the file if the file exists. That is, the file is in the append mode. If the file does not exist, it creates a new file for writing.\n",
    "ab | Opens a file for appending in binary format. The file pointer is at the end of the file if the file exists. That is, the file is in the append mode. If the file does not exist, it creates a new file for writing.\n",
    "a+ | Opens a file for both appending and reading. The file pointer is at the end of the file if the file exists. The file opens in the append mode. If the file does not exist, it creates a new file for reading and writing.\n",
    "ab+ | Opens a file for both appending and reading in binary format. The file pointer is at the end of the file if the file exists. The file opens in the append mode. If the file does not exist, it creates a new file for reading and writing."
   ]
  },
  {
   "attachments": {},
   "cell_type": "markdown",
   "metadata": {},
   "source": [
    "Attribute | Description\n",
    "---|---\n",
    "file.closed | Returns true if file is closed, false otherwise.\n",
    "file.mode | Returns access mode with which file was opened.\n",
    "file.name | Returns name of the file."
   ]
  },
  {
   "cell_type": "code",
   "execution_count": null,
   "metadata": {},
   "outputs": [],
   "source": [
    "#!/usr/bin/python3\n",
    "\n",
    "# Open a file\n",
    "fo = open(\"data/foo.txt\", \"wb\")\n",
    "\n",
    "print (\"Name of the file: \", fo.name)\n",
    "print (\"Closed or not : \", fo.closed)\n",
    "print (\"Opening mode : \", fo.mode)\n",
    "\n",
    "fo.close()"
   ]
  },
  {
   "attachments": {},
   "cell_type": "markdown",
   "metadata": {},
   "source": [
    "### The `close()` Method"
   ]
  },
  {
   "cell_type": "code",
   "execution_count": null,
   "metadata": {},
   "outputs": [],
   "source": [
    "# Syntax\n",
    "\n",
    "fileObject.close();"
   ]
  },
  {
   "cell_type": "code",
   "execution_count": null,
   "metadata": {},
   "outputs": [],
   "source": [
    "#!/usr/bin/python3\n",
    "\n",
    "# Open a file\n",
    "fo = open(\"data/foo.txt\", \"wb\")\n",
    "print (\"Name of the file: \", fo.name)\n",
    "\n",
    "# Close opened file\n",
    "fo.close()"
   ]
  },
  {
   "attachments": {},
   "cell_type": "markdown",
   "metadata": {},
   "source": [
    "### The `write()` Method"
   ]
  },
  {
   "cell_type": "code",
   "execution_count": null,
   "metadata": {},
   "outputs": [],
   "source": [
    "# Syntax\n",
    "\n",
    "fileObject.write(string);"
   ]
  },
  {
   "cell_type": "code",
   "execution_count": null,
   "metadata": {},
   "outputs": [],
   "source": [
    "#!/usr/bin/python3\n",
    "\n",
    "# Open a file\n",
    "fo = open(\"data/foo.txt\", \"w\")\n",
    "fo.write( \"Python is a great language.\\nYeah its great!!\\n\")\n",
    "\n",
    "# Close opend file\n",
    "fo.close()"
   ]
  },
  {
   "attachments": {},
   "cell_type": "markdown",
   "metadata": {},
   "source": [
    "### The `read()` Method"
   ]
  },
  {
   "cell_type": "code",
   "execution_count": null,
   "metadata": {},
   "outputs": [],
   "source": [
    "# Syntax\n",
    "\n",
    "fileObject.read([count]);"
   ]
  },
  {
   "cell_type": "code",
   "execution_count": null,
   "metadata": {},
   "outputs": [],
   "source": [
    "#!/usr/bin/python3\n",
    "\n",
    "# Open a file\n",
    "fo = open(\"data/foo.txt\", \"r+\")\n",
    "str = fo.read(10)\n",
    "print (\"Read String is : \", str)\n",
    "\n",
    "# Close opened file\n",
    "fo.close()"
   ]
  },
  {
   "attachments": {},
   "cell_type": "markdown",
   "metadata": {},
   "source": [
    "### File Positions"
   ]
  },
  {
   "cell_type": "code",
   "execution_count": null,
   "metadata": {},
   "outputs": [],
   "source": [
    "#!/usr/bin/python3\n",
    "\n",
    "# Open a file\n",
    "fo = open(\"data/foo.txt\", \"r+\")\n",
    "str = fo.read(10)\n",
    "print (\"Read String is : \", str)\n",
    "\n",
    "# Check current position\n",
    "position = fo.tell()\n",
    "print (\"Current file position : \", position)\n",
    "\n",
    "# Reposition pointer at the beginning once again\n",
    "position = fo.seek(0, 0)\n",
    "str = fo.read(10)\n",
    "print (\"Again read String is : \", str)\n",
    "\n",
    "# Close opened file\n",
    "fo.close()"
   ]
  },
  {
   "attachments": {},
   "cell_type": "markdown",
   "metadata": {},
   "source": [
    "### The `rename()` Method"
   ]
  },
  {
   "cell_type": "code",
   "execution_count": null,
   "metadata": {},
   "outputs": [],
   "source": [
    "# Syntax\n",
    "\n",
    "os.rename(current_file_name, new_file_name)"
   ]
  },
  {
   "cell_type": "code",
   "execution_count": null,
   "metadata": {},
   "outputs": [],
   "source": [
    "#!/usr/bin/python3\n",
    "\n",
    "import os\n",
    "\n",
    "# Rename a file from test1.txt to test2.txt\n",
    "os.rename(\"data/test1.txt\", \"data/test2.txt\")"
   ]
  },
  {
   "attachments": {},
   "cell_type": "markdown",
   "metadata": {},
   "source": [
    "### The `remove()` Method"
   ]
  },
  {
   "cell_type": "code",
   "execution_count": null,
   "metadata": {},
   "outputs": [],
   "source": [
    "# Syntax\n",
    "\n",
    "os.remove(file_name)"
   ]
  },
  {
   "cell_type": "code",
   "execution_count": null,
   "metadata": {},
   "outputs": [],
   "source": [
    "#!/usr/bin/python3\n",
    "\n",
    "import os\n",
    "\n",
    "# Delete file test2.txt\n",
    "os.remove(\"text2.txt\")"
   ]
  },
  {
   "attachments": {},
   "cell_type": "markdown",
   "metadata": {},
   "source": [
    "### The `mkdir()` Method"
   ]
  },
  {
   "cell_type": "code",
   "execution_count": null,
   "metadata": {},
   "outputs": [],
   "source": [
    "# Syntax\n",
    "\n",
    "os.mkdir(\"data/newdir\")"
   ]
  },
  {
   "cell_type": "code",
   "execution_count": null,
   "metadata": {},
   "outputs": [],
   "source": [
    "#!/usr/bin/python3\n",
    "\n",
    "import os\n",
    "\n",
    "# Create a directory \"test\"\n",
    "os.mkdir(\"data/test\")"
   ]
  },
  {
   "attachments": {},
   "cell_type": "markdown",
   "metadata": {},
   "source": [
    "### The `chdir()` Method"
   ]
  },
  {
   "cell_type": "code",
   "execution_count": null,
   "metadata": {},
   "outputs": [],
   "source": [
    "# Syntax\n",
    "\n",
    "os.chdir(\"data/newdir\")"
   ]
  },
  {
   "cell_type": "code",
   "execution_count": null,
   "metadata": {},
   "outputs": [],
   "source": [
    "#!/usr/bin/python3\n",
    "\n",
    "import os\n",
    "\n",
    "# Changing a directory to \"/home/newdir\"\n",
    "os.chdir(\"data/home/newdir\")"
   ]
  },
  {
   "attachments": {},
   "cell_type": "markdown",
   "metadata": {},
   "source": [
    "### The `getcwd()` Method"
   ]
  },
  {
   "cell_type": "code",
   "execution_count": null,
   "metadata": {},
   "outputs": [],
   "source": [
    "# Syntax\n",
    "\n",
    "os.getcwd()"
   ]
  },
  {
   "cell_type": "code",
   "execution_count": null,
   "metadata": {},
   "outputs": [],
   "source": [
    "#!/usr/bin/python3\n",
    "\n",
    "import os\n",
    "\n",
    "# This would give location of the current directory\n",
    "os.getcwd()"
   ]
  },
  {
   "attachments": {},
   "cell_type": "markdown",
   "metadata": {},
   "source": [
    "### The `rmdir()` Method"
   ]
  },
  {
   "cell_type": "code",
   "execution_count": null,
   "metadata": {},
   "outputs": [],
   "source": [
    "# Syntax\n",
    "\n",
    "os.rmdir('data/dirname')"
   ]
  },
  {
   "cell_type": "code",
   "execution_count": null,
   "metadata": {},
   "outputs": [],
   "source": [
    "#!/usr/bin/python3\n",
    "\n",
    "import os\n",
    "\n",
    "# This would remove \"/tmp/test\" directory.\n",
    "os.rmdir( \"/tmp/test\" )"
   ]
  },
  {
   "attachments": {},
   "cell_type": "markdown",
   "metadata": {},
   "source": [
    "### File Methods"
   ]
  },
  {
   "attachments": {},
   "cell_type": "markdown",
   "metadata": {},
   "source": [
    "S.No. | Methods | Description\n",
    "---|---|---\n",
    "1 | file.close() | Close the file. A closed file cannot be read or written any more.\n",
    "2 | file.flush() | Flush the internal buffer, like stdio's fflush. This may be a no-op on some file-like objects.\n",
    "3 | file.fileno() | Returns the integer file descriptor that is used by the underlying implementation to request I/O operations from the operating system.\n",
    "4 | file.isatty() | Returns True if the file is connected to a tty(-like) device, else False.\n",
    "5 | next(file) | Returns the next line from the file each time it is being called.\n",
    "6 | file.read([size]) | Reads at most size bytes from the file (less if the read hits EOF before obtaining size bytes).\n",
    "7 | file.readline([size]) | Reads one entire line from the file. A trailing newline character is kept in the string.\n",
    "8 | file.readlines([sizehint]) | Reads until EOF using readline() and return a list containing the lines. If the optional sizehint argument is present, instead of reading up to EOF, whole lines totalling approximately sizehint bytes (possibly after rounding up to an internal buffer size) are read.\n",
    "9 | file.seek(offset[, whence]) | Sets the file's current position\n",
    "10 | file.tell() | Returns the file's current position\n",
    "11 | file.truncate([size]) | Truncates the file's size. If the optional size argument is present, the file is truncated to (at most) that size.\n",
    "12 | file.write(str) | Writes a string to the file. There is no return value.\n",
    "13 | file.writelines(sequence) | Writes a sequence of strings to the file. The sequence can be any iterable object producing strings, typically a list of strings."
   ]
  },
  {
   "attachments": {},
   "cell_type": "markdown",
   "metadata": {},
   "source": [
    "### File `close()` Method"
   ]
  },
  {
   "cell_type": "code",
   "execution_count": null,
   "metadata": {},
   "outputs": [],
   "source": [
    "# Syntax\n",
    "\n",
    "fileObject.close()"
   ]
  },
  {
   "cell_type": "code",
   "execution_count": null,
   "metadata": {},
   "outputs": [],
   "source": [
    "#!/usr/bin/python3\n",
    "\n",
    "# Open a file\n",
    "fo = open(\"data/foo.txt\", \"wb\")\n",
    "print (\"Name of the file: \", fo.name)\n",
    "\n",
    "# Close opened file\n",
    "fo.close()"
   ]
  },
  {
   "attachments": {},
   "cell_type": "markdown",
   "metadata": {},
   "source": [
    "#### File `flush()` Method"
   ]
  },
  {
   "cell_type": "code",
   "execution_count": null,
   "metadata": {},
   "outputs": [],
   "source": [
    "# Syntax\n",
    "\n",
    "fileObject.flush()"
   ]
  },
  {
   "cell_type": "code",
   "execution_count": null,
   "metadata": {},
   "outputs": [],
   "source": [
    "#!/usr/bin/python3\n",
    "\n",
    "# Open a file\n",
    "fo = open(\"data/foo.txt\", \"wb\")\n",
    "print (\"Name of the file: \", fo.name)\n",
    "\n",
    "# Here it does nothing, but you can call it with read operation.\n",
    "fo.flush()\n",
    "\n",
    "# Close opend file\n",
    "fo.close()"
   ]
  },
  {
   "attachments": {},
   "cell_type": "markdown",
   "metadata": {},
   "source": [
    "### File `fileno()` Method"
   ]
  },
  {
   "cell_type": "code",
   "execution_count": null,
   "metadata": {},
   "outputs": [],
   "source": [
    "# Syntax\n",
    "\n",
    "fileObject.fileno()"
   ]
  },
  {
   "cell_type": "code",
   "execution_count": null,
   "metadata": {},
   "outputs": [],
   "source": [
    "#!/usr/bin/python3\n",
    "\n",
    "# Open a file\n",
    "fo = open(\"data/foo.txt\", \"wb\")\n",
    "print (\"Name of the file: \", fo.name)\n",
    "\n",
    "fid = fo.fileno()\n",
    "print (\"File Descriptor: \", fid)\n",
    "\n",
    "# Close opend file\n",
    "fo.close()"
   ]
  },
  {
   "attachments": {},
   "cell_type": "markdown",
   "metadata": {},
   "source": [
    "### File `isatty()` Method"
   ]
  },
  {
   "cell_type": "code",
   "execution_count": null,
   "metadata": {},
   "outputs": [],
   "source": [
    "# Syntax\n",
    "\n",
    "fileObject.isatty()"
   ]
  },
  {
   "cell_type": "code",
   "execution_count": null,
   "metadata": {},
   "outputs": [],
   "source": [
    "#!/usr/bin/python3\n",
    "\n",
    "# Open a file\n",
    "fo = open(\"data/foo.txt\", \"wb\")\n",
    "print (\"Name of the file: \", fo.name)\n",
    "\n",
    "ret = fo.isatty()\n",
    "print (\"Return value : \", ret)\n",
    "\n",
    "# Close opend file\n",
    "fo.close()"
   ]
  },
  {
   "attachments": {},
   "cell_type": "markdown",
   "metadata": {},
   "source": [
    "### File `next()` Method"
   ]
  },
  {
   "cell_type": "code",
   "execution_count": 2,
   "metadata": {},
   "outputs": [
    {
     "name": "stdout",
     "output_type": "stream",
     "text": [
      "Name of the file:  data/foo_1.txt\n",
      "Line No 0 - Assuming that 'foo.txt' contains following lines\n",
      "\n",
      "Line No 1 - C++\n",
      "\n",
      "Line No 2 - Java\n",
      "\n",
      "Line No 3 - Python\n",
      "\n",
      "Line No 4 - Perl\n",
      "\n"
     ]
    }
   ],
   "source": [
    "#!/usr/bin/python3\n",
    "\n",
    "# Open a file\n",
    "fo = open(\"data/foo_1.txt\", \"r\")\n",
    "print (\"Name of the file: \", fo.name)\n",
    "\n",
    "for index in range(5):\n",
    "    line = next(fo)\n",
    "    print (\"Line No %d - %s\" % (index, line))\n",
    "\n",
    "# Close opened file\n",
    "fo.close()"
   ]
  },
  {
   "attachments": {},
   "cell_type": "markdown",
   "metadata": {},
   "source": [
    "### File `read()` Method"
   ]
  },
  {
   "cell_type": "code",
   "execution_count": null,
   "metadata": {},
   "outputs": [],
   "source": [
    "# Syntax\n",
    "\n",
    "fileObject.read( size );"
   ]
  },
  {
   "cell_type": "code",
   "execution_count": null,
   "metadata": {},
   "outputs": [],
   "source": [
    "#!/usr/bin/python3\n",
    "\n",
    "# Open a file\n",
    "fo = open(\"data/foo_2.txt\", \"r+\")\n",
    "print (\"Name of the file: \", fo.name)\n",
    "\n",
    "line = fo.read(10)\n",
    "print (\"Read Line: %s\" % (line))\n",
    "\n",
    "# Close opened file\n",
    "fo.close()"
   ]
  },
  {
   "attachments": {},
   "cell_type": "markdown",
   "metadata": {},
   "source": [
    "### File `readline()` Method"
   ]
  },
  {
   "cell_type": "code",
   "execution_count": null,
   "metadata": {},
   "outputs": [],
   "source": [
    "# Syntax\n",
    "\n",
    "fileObject.readline( size );"
   ]
  },
  {
   "cell_type": "code",
   "execution_count": null,
   "metadata": {},
   "outputs": [],
   "source": [
    "#!/usr/bin/python3\n",
    "\n",
    "# Open a file\n",
    "fo = open(\"data/foo_2.txt\", \"r+\")\n",
    "print (\"Name of the file: \", fo.name)\n",
    "\n",
    "line = fo.readline()\n",
    "print (\"Read Line: %s\" % (line))\n",
    "\n",
    "line = fo.readline(5)\n",
    "print (\"Read Line: %s\" % (line))\n",
    "\n",
    "# Close opened file\n",
    "fo.close()"
   ]
  },
  {
   "attachments": {},
   "cell_type": "markdown",
   "metadata": {},
   "source": [
    "### File `readlines()` Method"
   ]
  },
  {
   "cell_type": "code",
   "execution_count": null,
   "metadata": {},
   "outputs": [],
   "source": [
    "# Syntax\n",
    "\n",
    "fileObject.readlines( sizehint );"
   ]
  },
  {
   "cell_type": "code",
   "execution_count": null,
   "metadata": {},
   "outputs": [],
   "source": [
    "#!/usr/bin/python3\n",
    "\n",
    "# Open a file\n",
    "fo = open(\"data/foo.txt\", \"r+\")\n",
    "print (\"Name of the file: \", fo.name)\n",
    "\n",
    "line = fo.readlines()\n",
    "print (\"Read Line: %s\" % (line))\n",
    "\n",
    "line = fo.readlines(2)\n",
    "print (\"Read Line: %s\" % (line))\n",
    "\n",
    "# Close opened file\n",
    "fo.close()"
   ]
  },
  {
   "attachments": {},
   "cell_type": "markdown",
   "metadata": {},
   "source": [
    "### File `seek()` Method"
   ]
  },
  {
   "cell_type": "code",
   "execution_count": null,
   "metadata": {},
   "outputs": [],
   "source": [
    "# Syntax\n",
    "\n",
    "fileObject.seek(offset[, whence])"
   ]
  },
  {
   "cell_type": "code",
   "execution_count": 9,
   "metadata": {},
   "outputs": [
    {
     "name": "stdout",
     "output_type": "stream",
     "text": [
      "Name of the file:  data/foo_2.txt\n",
      "Read Line: [\"Assuming that 'foo.txt' file contains the following text:\\n\", 'This is 1st line\\n', 'This is 2nd line\\n', 'This is 3rd line\\n', 'This is 4th line\\n', 'This is 5th line']\n",
      "Read Line: Assuming that 'foo.txt' file contains the following text:\n",
      "\n"
     ]
    }
   ],
   "source": [
    "#!/usr/bin/python3\n",
    "\n",
    "# Open a file\n",
    "fo = open(\"data/foo_2.txt\", \"r\")\n",
    "print (\"Name of the file: \", fo.name)\n",
    "\n",
    "line = fo.readlines()\n",
    "print (\"Read Line: %s\" % (line))\n",
    "\n",
    "# Again set the pointer to the beginning\n",
    "fo.seek(0, 0)\n",
    "line = fo.readline()\n",
    "print (\"Read Line: %s\" % (line))\n",
    "\n",
    "# Close opened file\n",
    "fo.close()"
   ]
  },
  {
   "attachments": {},
   "cell_type": "markdown",
   "metadata": {},
   "source": [
    "### File `tell()` Method"
   ]
  },
  {
   "cell_type": "code",
   "execution_count": null,
   "metadata": {},
   "outputs": [],
   "source": [
    "# Syntax \n",
    "\n",
    "fileObject.tell()"
   ]
  },
  {
   "cell_type": "code",
   "execution_count": 11,
   "metadata": {},
   "outputs": [
    {
     "name": "stdout",
     "output_type": "stream",
     "text": [
      "Name of the file:  data/foo_2.txt\n",
      "Read Line: Assuming that 'foo.txt' file contains the following text:\n",
      "\n",
      "current position :  59\n"
     ]
    }
   ],
   "source": [
    "#!/usr/bin/python3\n",
    "\n",
    "fo = open(\"data/foo_2.txt\", \"r+\")\n",
    "print (\"Name of the file: \", fo.name)\n",
    "\n",
    "line = fo.readline()\n",
    "print (\"Read Line: %s\" % (line))\n",
    "\n",
    "pos=fo.tell()\n",
    "print (\"current position : \",pos)\n",
    "\n",
    "# Close opened file\n",
    "fo.close()"
   ]
  },
  {
   "attachments": {},
   "cell_type": "markdown",
   "metadata": {},
   "source": [
    "### File `truncate()` Method"
   ]
  },
  {
   "cell_type": "code",
   "execution_count": null,
   "metadata": {},
   "outputs": [],
   "source": [
    "# Syntax\n",
    "\n",
    "fileObject.truncate( [ size ])"
   ]
  },
  {
   "cell_type": "code",
   "execution_count": 12,
   "metadata": {},
   "outputs": [
    {
     "name": "stdout",
     "output_type": "stream",
     "text": [
      "Name of the file:  data/foo_2.txt\n",
      "Read Line: Assuming that 'foo.txt' file contains the following text:\n",
      "\n",
      "Read Line: ['This is 1st line\\n', 'This is 2nd line\\n', 'This is 3rd line\\n', 'This is 4th line\\n', 'This is 5th line']\n"
     ]
    }
   ],
   "source": [
    "#!/usr/bin/python3\n",
    "\n",
    "fo = open(\"data/foo_2.txt\", \"r+\")\n",
    "print (\"Name of the file: \", fo.name)\n",
    "\n",
    "line = fo.readline()\n",
    "print (\"Read Line: %s\" % (line))\n",
    "\n",
    "fo.truncate()\n",
    "\n",
    "line = fo.readlines()\n",
    "print (\"Read Line: %s\" % (line))\n",
    "\n",
    "# Close opened file\n",
    "fo.close()"
   ]
  },
  {
   "attachments": {},
   "cell_type": "markdown",
   "metadata": {},
   "source": [
    "### File `write()` Method"
   ]
  },
  {
   "cell_type": "code",
   "execution_count": null,
   "metadata": {},
   "outputs": [],
   "source": [
    "# Syntax\n",
    "\n",
    "fileObject.write(str)"
   ]
  },
  {
   "cell_type": "code",
   "execution_count": 14,
   "metadata": {},
   "outputs": [
    {
     "name": "stdout",
     "output_type": "stream",
     "text": [
      "Name of the file:  data/foo_2.txt\n",
      "Line No 0 - Assuming that 'foo.txt' file contains the following text:\n",
      "\n",
      "Line No 1 - This is 1st line\n",
      "\n",
      "Line No 2 - This is 2nd line\n",
      "\n",
      "Line No 3 - This is 3rd line\n",
      "\n",
      "Line No 4 - This is 4th line\n",
      "\n",
      "Line No 5 - This is 5th lineThis is 6th line\n"
     ]
    }
   ],
   "source": [
    "#!/usr/bin/python3\n",
    "\n",
    "# Open a file in read/write mode\n",
    "fo = open(\"data/foo_2.txt\", \"r+\")\n",
    "print (\"Name of the file: \", fo.name)\n",
    "\n",
    "str = \"This is 6th line\"\n",
    "\n",
    "# Write a line at the end of the file.\n",
    "fo.seek(0, 2)\n",
    "line = fo.write( str )\n",
    "\n",
    "# Now read complete file from beginning.\n",
    "fo.seek(0,0)\n",
    "for index in range(6):\n",
    "    line = next(fo)\n",
    "    print (\"Line No %d - %s\" % (index, line))\n",
    "\n",
    "# Close opened file\n",
    "fo.close()"
   ]
  },
  {
   "attachments": {},
   "cell_type": "markdown",
   "metadata": {},
   "source": [
    "### File `writelines()` Method"
   ]
  },
  {
   "cell_type": "code",
   "execution_count": null,
   "metadata": {},
   "outputs": [],
   "source": [
    "# Syntax\n",
    "\n",
    "fileObject.writelines(sequence)"
   ]
  },
  {
   "cell_type": "code",
   "execution_count": 15,
   "metadata": {},
   "outputs": [
    {
     "name": "stdout",
     "output_type": "stream",
     "text": [
      "Name of the file:  data/foo_2.txt\n",
      "Line No 0 - Assuming that 'foo.txt' file contains the following text:\n",
      "\n",
      "Line No 1 - This is 1st line\n",
      "\n",
      "Line No 2 - This is 2nd line\n",
      "\n",
      "Line No 3 - This is 3rd line\n",
      "\n",
      "Line No 4 - This is 4th line\n",
      "\n",
      "Line No 5 - This is 5th lineThis is 6th lineThis is 6th line\n",
      "\n",
      "Line No 6 - This is 7th line\n"
     ]
    }
   ],
   "source": [
    "#!/usr/bin/python3\n",
    "\n",
    "# Open a file in read/write mode\n",
    "fo = open(\"data/foo_2.txt\", \"r+\")\n",
    "\n",
    "print (\"Name of the file: \", fo.name)\n",
    "seq = [\"This is 6th line\\n\", \"This is 7th line\"]\n",
    "\n",
    "# Write sequence of lines at the end of the file.\n",
    "fo.seek(0, 2)\n",
    "line = fo.writelines(seq)\n",
    "\n",
    "# Now read complete file from beginning.\n",
    "fo.seek(0, 0)\n",
    "for index in range(7):\n",
    "    line = next(fo)\n",
    "    print (\"Line No %d - %s\" % (index, line))\n",
    "\n",
    "# Close opened file\n",
    "fo.close()"
   ]
  },
  {
   "attachments": {},
   "cell_type": "markdown",
   "metadata": {},
   "source": [
    "### OS File/Directory Methods"
   ]
  },
  {
   "attachments": {},
   "cell_type": "markdown",
   "metadata": {},
   "source": [
    "S.No. | Methods | Description\n",
    "---|---|---\n",
    "1 | os.access(path, mode) | Use the real uid/gid to test for access to path.\n",
    "2 | os.chdir(path) | Change the current working directory to path\n",
    "3 | os.chflags(path, flags) | Set the flags of path to the numeric flags.\n",
    "4 | os.chmod(path, mode) | Change the mode of path to the numeric mode.\n",
    "5 | os.chown(path, uid, gid) | Change the owner and group id of path to the numeric uid and gid.\n",
    "6 | os.chroot(path) | Change the root directory of the current process to path.\n",
    "7 | os.close(fd) | Close file descriptor fd.\n",
    "8 | os.closerange(fd_low, fd_high) | Close all file descriptors from fd_low (inclusive) to fd_high (exclusive), ignoring errors.\n",
    "9 | os.dup(fd) | Return a duplicate of file descriptor fd.\n",
    "10 | os.dup2(fd, fd2) | Duplicate file descriptor fd to fd2, closing the latter first if necessary.\n",
    "11 | os.fchdir(fd) | Change the current working directory to the directory represented by the file descriptor fd.\n",
    "12 | os.fchmod(fd, mode) | Change the mode of the file given by fd to the numeric mode.\n",
    "13 | os.fchown(fd, uid, gid) | Change the owner and group id of the file given by fd to the numeric uid and gid.\n",
    "14 | os.fdatasync(fd) | Force write of file with filedescriptor fd to disk.\n",
    "15 | os.fdopen(fd[, mode[, bufsize]]) | Return an open file object connected to the file descriptor fd.\n",
    "16 | os.fpathconf(fd, name) | Return system configuration information relevant to an open file. name specifies the configuration value to retrieve.\n",
    "17 | os.fstat(fd) | Return status for file descriptor fd, like stat().\n",
    "18 | os.fstatvfs(fd) | Return information about the filesystem containing the file associated with file descriptor fd, like statvfs().\n",
    "19 | os.fsync(fd) | Force write of file with filedescriptor fd to disk.\n",
    "20 | os.ftruncate(fd, length) | Truncate the file corresponding to file descriptor fd, so that it is at most length bytes in size.\n",
    "21 | os.getcwd() | Return a string representing the current working directory.\n",
    "22 | os.getcwdu() | Return a Unicode object representing the current working directory.\n",
    "23 | os.isatty(fd) | Return True if the file descriptor fd is open and connected to a tty(-like) device, else False.\n",
    "24 | os.lchflags(path, flags) | Set the flags of path to the numeric flags, like chflags(), but do not follow symbolic links.\n",
    "25 | os.lchmod(path, mode) | Change the mode of path to the numeric mode.\n",
    "26 | os.lchown(path, uid, gid) | Change the owner and group id of path to the numeric uid and gid. This function will not follow symbolic links.\n",
    "27 | os.link(src, dst) | Create a hard link pointing to src named dst.\n",
    "28 | os.listdir(path) | Return a list containing the names of the entries in the directory given by path.\n",
    "29 | os.lseek(fd, pos, how) | Set the current position of file descriptor fd to position pos, modified by how.\n",
    "30 | os.lstat(path) | Like stat(), but do not follow symbolic links.\n",
    "31 | os.major(device) | Extract the device major number from a raw device number.\n",
    "32 | os.makedev(major, minor) | Compose a raw device number from the major and minor device numbers.\n",
    "33 | os.makedirs(path[, mode]) | Recursive directory creation function.\n",
    "34 | os.minor(device) | Extract the device minor number from a raw device number .\n",
    "35 | os.mkdir(path[, mode]) | Create a directory named path with numeric mode mode.\n",
    "36 | os.mkfifo(path[, mode]) | Create a FIFO (a named pipe) named path with numeric mode mode. The default mode is 0666 (octal).\n",
    "37 | os.mknod(filename[, mode=0600, device]) | Create a filesystem node (file, device special file or named pipe) named filename.\n",
    "38 | os.open(file, flags[, mode]) | Open the file file and set various flags according to flags and possibly its mode according to mode.\n",
    "39 | os.openpty() | Open a new pseudo-terminal pair. Return a pair of file descriptors (master, slave) for the pty and the tty, respectively.\n",
    "40 | os.pathconf(path, name) | Return system configuration information relevant to a named file.\n",
    "41 | os.pipe() | Create a pipe. Return a pair of file descriptors (r, w) usable for reading and writing, respectively.\n",
    "42 | os.popen(command[, mode[, bufsize]]) | Open a pipe to or from command.\n",
    "43 | os.read(fd, n) | Read at most n bytes from file descriptor fd. Return a string containing the bytes read. If the end of the file referred to by fd has been reached, an empty string is returned.\n",
    "44 | os.readlink(path) | Return a string representing the path to which the symbolic link points.\n",
    "45 | os.remove(path) | Remove the file path.\n",
    "46 | os.removedirs(path) | Remove directories recursively.\n",
    "47 | os.rename(src, dst) | Rename the file or directory src to dst.\n",
    "48 | os.renames(old, new) | Recursive directory or file renaming function.\n",
    "49 | os.rmdir(path) | Remove the directory path\n",
    "50 | os.stat(path) | Perform a stat system call on the given path.\n",
    "51 | os.stat_float_times([newvalue]) | Determine whether stat_result represents time stamps as float objects.\n",
    "52 | os.statvfs(path) | Perform a statvfs system call on the given path.\n",
    "53 | os.symlink(src, dst) | Create a symbolic link pointing to src named dst.\n",
    "54 | os.tcgetpgrp(fd) | Return the process group associated with the terminal given by fd (an open file descriptor as returned by open()).\n",
    "55 | os.tcsetpgrp(fd, pg) | Set the process group associated with the terminal given by fd (an open file descriptor as returned by open()) to pg.\n",
    "56 | os.tempnam([dir[, prefix]]) | Return a unique path name that is reasonable for creating a temporary file.\n",
    "57 | os.tmpfile() | Return a new file object opened in update mode (w+b).\n",
    "58 | os.tmpnam() | Return a unique path name that is reasonable for creating a temporary file.\n",
    "59 | os.ttyname(fd) | Return a string which specifies the terminal device associated with file descriptor fd. If fd is not associated with a terminal device, an exception is raised.\n",
    "60 | os.unlink(path) | Remove the file path.\n",
    "61 | os.utime(path, times) | Set the access and modified times of the file specified by path.\n",
    "62 | os.walk(top[, topdown=True[, onerror=None[, followlinks=False]]]) | Generate the file names in a directory tree by walking the tree either top-down or bottom-up.\n",
    "63 | os.write(fd, str) |  Write the string str to file descriptor fd. Return the number of bytes actually written."
   ]
  },
  {
   "cell_type": "code",
   "execution_count": null,
   "metadata": {},
   "outputs": [],
   "source": []
  },
  {
   "cell_type": "code",
   "execution_count": null,
   "metadata": {},
   "outputs": [],
   "source": []
  },
  {
   "cell_type": "code",
   "execution_count": null,
   "metadata": {},
   "outputs": [],
   "source": []
  },
  {
   "cell_type": "code",
   "execution_count": null,
   "metadata": {},
   "outputs": [],
   "source": []
  },
  {
   "cell_type": "code",
   "execution_count": null,
   "metadata": {},
   "outputs": [],
   "source": []
  },
  {
   "cell_type": "code",
   "execution_count": null,
   "metadata": {},
   "outputs": [],
   "source": []
  },
  {
   "cell_type": "code",
   "execution_count": null,
   "metadata": {},
   "outputs": [],
   "source": []
  },
  {
   "cell_type": "code",
   "execution_count": null,
   "metadata": {},
   "outputs": [],
   "source": []
  },
  {
   "cell_type": "code",
   "execution_count": null,
   "metadata": {},
   "outputs": [],
   "source": [
    "%reload_ext watermark\n",
    "%watermark -a \"Caique Miranda\" -gu \"caiquemiranda\" -iv"
   ]
  },
  {
   "attachments": {},
   "cell_type": "markdown",
   "metadata": {},
   "source": [
    "### End."
   ]
  }
 ],
 "metadata": {
  "kernelspec": {
   "display_name": "Python 3",
   "language": "python",
   "name": "python3"
  },
  "language_info": {
   "codemirror_mode": {
    "name": "ipython",
    "version": 3
   },
   "file_extension": ".py",
   "mimetype": "text/x-python",
   "name": "python",
   "nbconvert_exporter": "python",
   "pygments_lexer": "ipython3",
   "version": "3.10.5"
  },
  "orig_nbformat": 4
 },
 "nbformat": 4,
 "nbformat_minor": 2
}
